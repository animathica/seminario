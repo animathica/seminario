{
 "cells": [
  {
   "cell_type": "markdown",
   "id": "6e66ba96",
   "metadata": {},
   "source": [
    "# Laboratorio de experimentos"
   ]
  },
  {
   "cell_type": "code",
   "execution_count": 164,
   "id": "85c35dac",
   "metadata": {},
   "outputs": [
    {
     "ename": "KeyError",
     "evalue": "'#'",
     "output_type": "error",
     "traceback": [
      "\u001b[0;31m---------------------------------------------------------------------------\u001b[0m",
      "\u001b[0;31mKeyError\u001b[0m                                  Traceback (most recent call last)",
      "Input \u001b[0;32mIn [164]\u001b[0m, in \u001b[0;36m<cell line: 1>\u001b[0;34m()\u001b[0m\n\u001b[0;32m----> 1\u001b[0m \u001b[43mget_ipython\u001b[49m\u001b[43m(\u001b[49m\u001b[43m)\u001b[49m\u001b[38;5;241;43m.\u001b[39;49m\u001b[43mrun_cell_magic\u001b[49m\u001b[43m(\u001b[49m\u001b[38;5;124;43m'\u001b[39;49m\u001b[38;5;124;43mmanim\u001b[39;49m\u001b[38;5;124;43m'\u001b[39;49m\u001b[43m,\u001b[49m\u001b[43m \u001b[49m\u001b[38;5;124;43m'\u001b[39;49m\u001b[38;5;124;43m-ql -v WARNING Axes # No funciona\u001b[39;49m\u001b[38;5;124;43m'\u001b[39;49m\u001b[43m,\u001b[49m\u001b[43m \u001b[49m\u001b[38;5;124;43m'\u001b[39;49m\u001b[38;5;130;43;01m\\n\u001b[39;49;00m\u001b[38;5;124;43mclass Axes(VectorScene):\u001b[39;49m\u001b[38;5;130;43;01m\\n\u001b[39;49;00m\u001b[38;5;124;43m    def construct(self):\u001b[39;49m\u001b[38;5;130;43;01m\\n\u001b[39;49;00m\u001b[38;5;124;43m        \u001b[39;49m\u001b[38;5;130;43;01m\\n\u001b[39;49;00m\u001b[38;5;124;43m        axes = Axes(\u001b[39;49m\u001b[38;5;130;43;01m\\n\u001b[39;49;00m\u001b[38;5;124;43m            x_range=[0, 10, 1],\u001b[39;49m\u001b[38;5;130;43;01m\\n\u001b[39;49;00m\u001b[38;5;124;43m            y_range=[-2, 6, 1],\u001b[39;49m\u001b[38;5;130;43;01m\\n\u001b[39;49;00m\u001b[38;5;124;43m            tips=False,\u001b[39;49m\u001b[38;5;130;43;01m\\n\u001b[39;49;00m\u001b[38;5;124;43m            axis_config=\u001b[39;49m\u001b[38;5;124;43m{\u001b[39;49m\u001b[38;5;124;43m\"\u001b[39;49m\u001b[38;5;124;43minclude_numbers\u001b[39;49m\u001b[38;5;124;43m\"\u001b[39;49m\u001b[38;5;124;43m: True},\u001b[39;49m\u001b[38;5;130;43;01m\\n\u001b[39;49;00m\u001b[38;5;124;43m            y_axis_config=\u001b[39;49m\u001b[38;5;124;43m{\u001b[39;49m\u001b[38;5;124;43m\"\u001b[39;49m\u001b[38;5;124;43mscaling\u001b[39;49m\u001b[38;5;124;43m\"\u001b[39;49m\u001b[38;5;124;43m: LogBase(custom_labels=True)},\u001b[39;49m\u001b[38;5;130;43;01m\\n\u001b[39;49;00m\u001b[38;5;124;43m        )\u001b[39;49m\u001b[38;5;130;43;01m\\n\u001b[39;49;00m\u001b[38;5;124;43m        #self.add_axes()\u001b[39;49m\u001b[38;5;130;43;01m\\n\u001b[39;49;00m\u001b[38;5;124;43m        self.add(axes) # se ve igual que add_plane\u001b[39;49m\u001b[38;5;130;43;01m\\n\u001b[39;49;00m\u001b[38;5;124;43m        self.wait()\u001b[39;49m\u001b[38;5;130;43;01m\\n\u001b[39;49;00m\u001b[38;5;124;43m'\u001b[39;49m\u001b[43m)\u001b[49m\n",
      "File \u001b[0;32m/usr/lib/python3.10/site-packages/IPython/core/interactiveshell.py:2358\u001b[0m, in \u001b[0;36mInteractiveShell.run_cell_magic\u001b[0;34m(self, magic_name, line, cell)\u001b[0m\n\u001b[1;32m   2356\u001b[0m \u001b[38;5;28;01mwith\u001b[39;00m \u001b[38;5;28mself\u001b[39m\u001b[38;5;241m.\u001b[39mbuiltin_trap:\n\u001b[1;32m   2357\u001b[0m     args \u001b[38;5;241m=\u001b[39m (magic_arg_s, cell)\n\u001b[0;32m-> 2358\u001b[0m     result \u001b[38;5;241m=\u001b[39m \u001b[43mfn\u001b[49m\u001b[43m(\u001b[49m\u001b[38;5;241;43m*\u001b[39;49m\u001b[43margs\u001b[49m\u001b[43m,\u001b[49m\u001b[43m \u001b[49m\u001b[38;5;241;43m*\u001b[39;49m\u001b[38;5;241;43m*\u001b[39;49m\u001b[43mkwargs\u001b[49m\u001b[43m)\u001b[49m\n\u001b[1;32m   2359\u001b[0m \u001b[38;5;28;01mreturn\u001b[39;00m result\n",
      "File \u001b[0;32m~/.local/lib/python3.10/site-packages/manim/utils/ipython_magic.py:146\u001b[0m, in \u001b[0;36mManimMagic.manim\u001b[0;34m(self, line, cell, local_ns)\u001b[0m\n\u001b[1;32m    143\u001b[0m         config\u001b[38;5;241m.\u001b[39mrenderer \u001b[38;5;241m=\u001b[39m \u001b[38;5;124m\"\u001b[39m\u001b[38;5;124mcairo\u001b[39m\u001b[38;5;124m\"\u001b[39m\n\u001b[1;32m    145\u001b[0m \u001b[38;5;28;01mtry\u001b[39;00m:\n\u001b[0;32m--> 146\u001b[0m     SceneClass \u001b[38;5;241m=\u001b[39m \u001b[43mlocal_ns\u001b[49m\u001b[43m[\u001b[49m\u001b[43mconfig\u001b[49m\u001b[43m[\u001b[49m\u001b[38;5;124;43m\"\u001b[39;49m\u001b[38;5;124;43mscene_names\u001b[39;49m\u001b[38;5;124;43m\"\u001b[39;49m\u001b[43m]\u001b[49m\u001b[43m[\u001b[49m\u001b[38;5;241;43m0\u001b[39;49m\u001b[43m]\u001b[49m\u001b[43m]\u001b[49m\n\u001b[1;32m    147\u001b[0m     scene \u001b[38;5;241m=\u001b[39m SceneClass(renderer\u001b[38;5;241m=\u001b[39mrenderer)\n\u001b[1;32m    148\u001b[0m     scene\u001b[38;5;241m.\u001b[39mrender()\n",
      "\u001b[0;31mKeyError\u001b[0m: '#'"
     ]
    }
   ],
   "source": [
    "%%manim -ql -v WARNING Axes # No funciona\n",
    "\n",
    "class Axes(VectorScene):\n",
    "    def construct(self):\n",
    "        \n",
    "        axes = Axes(\n",
    "            x_range=[0, 10, 1],\n",
    "            y_range=[-2, 6, 1],\n",
    "            tips=False,\n",
    "            axis_config={\"include_numbers\": True},\n",
    "            y_axis_config={\"scaling\": LogBase(custom_labels=True)},\n",
    "        )\n",
    "        #self.add_axes()\n",
    "        self.add(axes) # se ve igual que add_plane\n",
    "        self.wait()"
   ]
  },
  {
   "cell_type": "code",
   "execution_count": 1,
   "id": "69374cb1",
   "metadata": {},
   "outputs": [
    {
     "data": {
      "text/html": [
       "<pre style=\"white-space:pre;overflow-x:auto;line-height:normal;font-family:Menlo,'DejaVu Sans Mono',consolas,'Courier New',monospace\">Manim Community <span style=\"color: #008000; text-decoration-color: #008000\">v0.15.2</span>\n",
       "\n",
       "</pre>\n"
      ],
      "text/plain": [
       "Manim Community \u001b[32mv0.\u001b[0m\u001b[32m15.2\u001b[0m\n",
       "\n"
      ]
     },
     "metadata": {},
     "output_type": "display_data"
    }
   ],
   "source": [
    "from manim import * # Debemos importar Manim Community v0.15.2"
   ]
  },
  {
   "cell_type": "markdown",
   "id": "bee0c036",
   "metadata": {},
   "source": [
    "# Escenas vectoriales 2D\n",
    "\n",
    "En este _notebook_, veremos las clases más relevantes para poder hacer animaciones relacionadas con espacios vectoriales de dos dimensiones.\n",
    "\n",
    "## Mobjects\n",
    "\n",
    "Lo que más nos interesa animar son vectores flecha sobre un plano cartesiano. El plano se genera con un `Mobject` correspondiente a la clase [`NumberPlane`](https://docs.manim.community/en/stable/reference/manim.mobject.graphing.coordinate_systems.NumberPlane.html?highlight=NumberPlane):"
   ]
  },
  {
   "cell_type": "code",
   "execution_count": 13,
   "id": "a0f48a67",
   "metadata": {},
   "outputs": [
    {
     "data": {
      "image/png": "[encoded data removed]",
      "text/plain": [
       "<IPython.core.display.Image object>"
      ]
     },
     "metadata": {},
     "output_type": "display_data"
    }
   ],
   "source": [
    "%%manim -ql -v WARNING Plane\n",
    "\n",
    "class Plane(Scene):      \n",
    "    def construct(self):\n",
    "        self.add(NumberPlane())"
   ]
  },
  {
   "cell_type": "markdown",
   "id": "d387184d",
   "metadata": {},
   "source": [
    "**Nota** Aprenderemos más sobre `NumberPlane` y otros sistemas coordenados cuando veamos el tema de Ejes; en este _notebook_ sólo utilizaremos el plano como un sistema de referencia.\n",
    "\n",
    "Por otro lado, los vectores flecha se crean con la clase `Vector`, la cual es subclase de `Arrow` que, a su vez, es subclase de `Líne`. Como sabemos que, por herencia, `Vector` heredará todos los métodos de `Line` y, en particular, también los de `Arrow`, estudiaremos estas clases yendo de lo general a lo particular, empezando por `Line`."
   ]
  },
  {
   "cell_type": "markdown",
   "id": "c4e3c1b7",
   "metadata": {},
   "source": [
    "## Líneas con la clase [`Mobject -> VMobject -> SVGMobject -> Line`](https://docs.manim.community/en/stable/reference/manim.mobject.geometry.line.Line.html#manim.mobject.geometry.line.Line)\n",
    "\n",
    "En Manim, las líneas se crean instanciando un objeto de la clase `Line`.\n",
    "\n",
    "Los **parámetros** del método especial de inicialización `__init__` de `Line` son\n",
    "\n",
    "* `start`, un arreglo con la coordenada donde inicia la línea;\n",
    "* `end`, un arreglo con la coordenada donde termina la línea;\n",
    "* `buff` (opcional), un número que determina la distancia entre `start` y el comienzo de la línea, así como la distancia entre `end` y el final de la línea;\n",
    "* `path_arc` (opcional), un número que determina qué tan curveada es la línea.\n",
    "\n",
    "**Nota** En la primera línea de la [definición de `__init__`](https://docs.manim.community/en/stable/_modules/manim/mobject/geometry/line.html#Line) se observa que la clase `Line` tiene tres dimensiones, por lo que **los arreglos de las coordenadas de inicio** (`start`) **y fin** (`end`) **siempre deben corresponder a coordenadas en tres dimensiones**; para esto, podemos simplemente poner la tercer entrada como 0.\n",
    "\n",
    "Podemos experimentar con los parámetros de `Line` modificándolos en la siguiente celda (hemos dividido la declaración de `Line` en varios renglones por claridad):"
   ]
  },
  {
   "cell_type": "code",
   "execution_count": 11,
   "id": "0dbb3eed",
   "metadata": {},
   "outputs": [
    {
     "data": {
      "image/png": "[encoded data removed]",
      "text/plain": [
       "<IPython.core.display.Image object>"
      ]
     },
     "metadata": {},
     "output_type": "display_data"
    }
   ],
   "source": [
    "%%manim -ql -v WARNING LineParameters\n",
    "\n",
    "class LineParameters(Scene):\n",
    "    def construct(self):\n",
    "        self.add(NumberPlane())\n",
    "        # Creamos una línea\n",
    "        línea = Line([-6,-2,0], # desde (-6.2)\n",
    "                     [0,0,0],   # hasta (0,0),\n",
    "                     0,         # sin buff y\n",
    "                     0)         # sin curvatura, y\n",
    "        self.add(línea)         # la añadimos a la escena."
   ]
  },
  {
   "cell_type": "markdown",
   "id": "2db259d5",
   "metadata": {},
   "source": [
    "Los **métodos** \"getter\" de `Line` incluyen:\n",
    "\n",
    "* `get_start`,\n",
    "* `get_end`,\n",
    "* `get_angle`,\n",
    "* `get_slope`,\n",
    "* `get_vector`,\n",
    "* `get_unit_vector`, y\n",
    "* `get_projection`,\n",
    "\n",
    "cuyo uso se ejemplifica en la siguiente celda:"
   ]
  },
  {
   "cell_type": "code",
   "execution_count": 50,
   "id": "feb43346",
   "metadata": {},
   "outputs": [
    {
     "data": {
      "text/plain": [
       "array([-6., -2.,  0.])"
      ]
     },
     "execution_count": 50,
     "metadata": {},
     "output_type": "execute_result"
    }
   ],
   "source": [
    "línea = Line([-6,-2,0],[6,-2,0],0,0)\n",
    "\n",
    "línea.get_start() # Devuelve la coordenada en donde empieza.\n",
    "\n",
    "#línea.get_end() # Devuelve la coordenada en donde termina.\n",
    "\n",
    "#línea.get_angle() # Devuelve el ángulo en radianes.\n",
    "\n",
    "#línea.get_slope() # Devuelve la pendiente.\n",
    "\n",
    "#línea.get_vector() # Devuelve sus coordenadas como vector con\n",
    "                   # origen en las coordenadas de la variable.\n",
    "    \n",
    "#línea.get_unit_vector() # Devuelve el vector normal en el sentido\n",
    "                        # y dirección del vector de get_vector.\n",
    "    \n",
    "#línea.get_projection(3) # Devuelve la proyección de un punto del\n",
    "                        # el eje horizontal sobre la línea"
   ]
  },
  {
   "cell_type": "markdown",
   "id": "4cc9296d",
   "metadata": {},
   "source": [
    "Por otro lado, los \"setters\" incluyen:\n",
    "\n",
    "* `set_path_arc`,\n",
    "* `set_angle`,\n",
    "* `set_length`, y\n",
    "* `set_points_by_ends`,\n",
    "\n",
    "cuyo uso se ejemplifica en la siguiente celda:"
   ]
  },
  {
   "cell_type": "code",
   "execution_count": 8,
   "id": "8b35484d",
   "metadata": {
    "scrolled": true
   },
   "outputs": [
    {
     "data": {
      "text/html": [
       "<video src=\"media/jupyter/LineSetters@2022-07-19@00-12-55.mp4\" controls autoplay loop style=\"max-width: 60%;\"  >\n",
       "      Your browser does not support the <code>video</code> element.\n",
       "    </video>"
      ],
      "text/plain": [
       "<IPython.core.display.Video object>"
      ]
     },
     "metadata": {},
     "output_type": "display_data"
    }
   ],
   "source": [
    "%%manim -ql -v WARNING LineSetters\n",
    "\n",
    "class LineSetters(Scene):\n",
    "    def construct(self):\n",
    "        self.add(NumberPlane())\n",
    "            \n",
    "        # Creamos una línea y la añadimos:\n",
    "        línea = Line([-2,1,0],[2,1,0],0,0)\n",
    "        self.add(línea)\n",
    "        self.wait()\n",
    "        \n",
    "        # Cambiamos su longitud:\n",
    "        línea.set_length(2)\n",
    "        self.wait()\n",
    "        \n",
    "        # Cambiamos su ángulo alrededor del punto de inicio de la línea (start):\n",
    "        línea.set_angle(1.57)\n",
    "        self.wait()\n",
    "        \n",
    "        # Cambiamos sus coordenadas:\n",
    "        línea.set_points_by_ends([-2,3,0],[2,3,0])\n",
    "        self.wait()\n",
    "        \n",
    "        # Cambiamos su longitud de nuevo:\n",
    "        línea.set_length(8)\n",
    "        self.wait()\n",
    "        \n",
    "        # Cambiamos su ángulo alrededor del punto (0,0) (el origen):\n",
    "        línea.set_angle(0.77,[0,0,0])\n",
    "        self.wait()\n",
    "        \n",
    "        # Cambiamos el arco de la línea:\n",
    "        línea.set_path_arc(1)\n",
    "        self.wait()"
   ]
  },
  {
   "cell_type": "markdown",
   "id": "c8b3d325",
   "metadata": {},
   "source": [
    "**Nota (_glitch?!_)** En el [código fuente de `Line`](https://docs.manim.community/en/stable/_modules/manim/mobject/geometry/line.html#Line), el método `set_points_by_ends` puede también tomar parámetros de `buff` y `path_arc`; sin embargo, la utilización de estos parámetros no parece estar bien implementada, pues al agregar estos argumentos en la celda anterior se obtienen resultados inesperados.\n",
    "\n",
    "**Nota (_glitch?!_)** El método `set_path_arc` no funciona bien después de `set_points_by_ends`, **como se observa en el último segundo de la animación anterior**, pues **regresa la línea a sus coordenadas originales**. `Line` tiene otro método llamado `put_start_and_end_on` que sólo sirve para cambiar coordenadas y, a pesar de que lo hace de forma distinta a `set_points_by_ends`, tampoco funciona bien con `set_path_arc`. Por ello, ¡debemos tener mucho cuidado al usar el método `set_path_arc`!"
   ]
  },
  {
   "cell_type": "markdown",
   "id": "ee92cedd",
   "metadata": {},
   "source": [
    "`Line` tiene los mismos **atributos** que cualquier [`VMobject`](cualquier); los más relevantes son\n",
    "\n",
    "* `color`, que cambia el color de la línea, y\n",
    "* `stroke_width`, que cambia el grosor de la línea;\n",
    "\n",
    "ambos pueden ser especificados dentro de los parámetros del objeto, como se muestra a continuación:"
   ]
  },
  {
   "cell_type": "code",
   "execution_count": 22,
   "id": "4b8a9a41",
   "metadata": {
    "scrolled": true
   },
   "outputs": [
    {
     "data": {
      "image/png": "[encoded data removed]",
      "text/plain": [
       "<IPython.core.display.Image object>"
      ]
     },
     "metadata": {},
     "output_type": "display_data"
    }
   ],
   "source": [
    "%%manim -ql -v WARNING LineAttributes\n",
    "\n",
    "class LineAttributes(Scene):\n",
    "    def construct(self):\n",
    "                                      # Creamos una línea\n",
    "        línea = Line([-6,-2,0],       # desde (-6.2)\n",
    "                     [0,0,0],         # hasta (0,0),\n",
    "                     0,               # sin buff,\n",
    "                     0,               # sin curvatura,\n",
    "                     color=BLUE,      # con color azul\n",
    "                     stroke_width=50) # y grosor 50.\n",
    "        self.add(línea)"
   ]
  },
  {
   "cell_type": "markdown",
   "id": "7f265b62",
   "metadata": {},
   "source": [
    "### Líneas punteadas con la subclase [`Mobject -> VMobject -> SVGMobject -> Line -> DashedLine`](https://docs.manim.community/en/stable/reference/manim.mobject.geometry.line.DashedLine.html#manim.mobject.geometry.line.DashedLine)\n",
    "\n",
    "Para crear líneas punteadas, instanciamos objetos de la clase `DashedLine`, que toma los mismos argumentos que `Line` (`start`, `stop`, `buff`, `path_arch`, etc.) más\n",
    "* `dash_length`, un número que determina la longitud de cada línea individual, y\n",
    "* `dashed_ratio`, un número entre `0` y `1` que da la razón entre el espacio para las líneas punteadas y el espacio vacío.\n",
    "\n",
    "Los valores predeterminados de `dash_length` y `dashed_ratio` son `0.05` y `0.5`, respectivamente."
   ]
  },
  {
   "cell_type": "code",
   "execution_count": 23,
   "id": "838f1f32",
   "metadata": {},
   "outputs": [
    {
     "data": {
      "image/png": "[encoded data removed]",
      "text/plain": [
       "<IPython.core.display.Image object>"
      ]
     },
     "metadata": {},
     "output_type": "display_data"
    }
   ],
   "source": [
    "%%manim -ql -v WARNING DashedLineParameters\n",
    "\n",
    "class DashedLineParameters(Scene):\n",
    "    def construct(self):\n",
    "        línea_punteada = DashedLine([-6,-2,0],\n",
    "                                    [0,0,0],\n",
    "                                    0,\n",
    "                                    0,\n",
    "                                    dash_length=0.3,\n",
    "                                    dashed_ratio=0.6)\n",
    "        línea_punteada\n",
    "        self.add(línea_punteada)"
   ]
  },
  {
   "cell_type": "markdown",
   "id": "3883f81e",
   "metadata": {},
   "source": [
    "**Nota** Observemos que en la celda anterior escribimos los nombres de los parámetros `dash_length` y `dashed_ratio` para poder cambiar su valor; esto es necesario pues, de lo contrario, `manim` marca un error."
   ]
  },
  {
   "cell_type": "markdown",
   "id": "4dd6ecb2",
   "metadata": {},
   "source": [
    "Los **métodos** más relevantes de `DashedLine` son todos los que hereda de `Line`. En particular, **no existen setters (funcionales)** para `dash_length` ni `dashed_ratio`. Los **getters** de estos dos parámetros parecen funcionar, pero no aparecen en la documentación y, al ejecutarlos, arrojan una advertencia de que probablemente los quiten, por lo que es mejor sólo acceder a `dash_length` y `dashed_ratio` como atributos. Nótese que **modificar los atributos** `dash_length` y `dashed_ratio` **no tiene ningún efecto sobre las animaciones**."
   ]
  },
  {
   "cell_type": "code",
   "execution_count": 79,
   "id": "56a14cf8",
   "metadata": {},
   "outputs": [
    {
     "data": {
      "text/plain": [
       "0.7"
      ]
     },
     "execution_count": 79,
     "metadata": {},
     "output_type": "execute_result"
    }
   ],
   "source": [
    "línea_punteada = DashedLine([-6,-2,0],\n",
    "                                    [0,0,0],\n",
    "                                    0,\n",
    "                                    0,\n",
    "                                    dash_length=0.7,\n",
    "                                    dashed_ratio=0.6)\n",
    "línea_punteada.dash_length  # Accedemos a los atributos dash_length y\n",
    "#línea_punteada.dashed_ratio # dashed_ratio."
   ]
  },
  {
   "cell_type": "markdown",
   "id": "7f1cda91",
   "metadata": {},
   "source": [
    "### Flechas con la subclase [`Mobject -> VMobject -> SVGMobject -> Line -> Arrow`](https://docs.manim.community/en/stable/reference/manim.mobject.geometry.line.Arrow.html#manim.mobject.geometry.line.Arrow)\n",
    "\n",
    "Los parámetros más relevantes para crear flechas, instanciando objetos de la clase `Arrow`, son los mismos parámetros que `Line`:"
   ]
  },
  {
   "cell_type": "code",
   "execution_count": 24,
   "id": "a2cccc83",
   "metadata": {},
   "outputs": [
    {
     "data": {
      "image/png": "[encoded data removed]",
      "text/plain": [
       "<IPython.core.display.Image object>"
      ]
     },
     "metadata": {},
     "output_type": "display_data"
    }
   ],
   "source": [
    "%%manim -ql -v WARNING ArrowParameters\n",
    "\n",
    "class ArrowParameters(Scene):\n",
    "    def construct(self):\n",
    "        flecha = Arrow([-2.5,-2.5,0], # start\n",
    "                      [3,3,0],       # end\n",
    "                      buff=0,         \n",
    "                      path_arc = 0)\n",
    "        self.add(flecha)"
   ]
  },
  {
   "cell_type": "markdown",
   "id": "c55a0d0c",
   "metadata": {},
   "source": [
    "**Nota** Por alguna razón, debemos escribir `buff=` para fijar este parámetro al crear un `Arrow`, lo cual no era necesario con `Line`; de lo contrario, `manim` marca un error."
   ]
  },
  {
   "cell_type": "markdown",
   "id": "2a33f1b9",
   "metadata": {},
   "source": [
    "El **método** más relevante de `Arrow` es `scale` que, a diferencia del [método genérico `scale` de la supclase `Mobject`](https://docs.manim.community/en/stable/reference/manim.mobject.mobject.Mobject.html#manim.mobject.mobject.Mobject.scale), reescala la flecha **manteniendo fijos el** `stroke_width` **y el tamaño de la punta**."
   ]
  },
  {
   "cell_type": "code",
   "execution_count": 26,
   "id": "4099ac6b",
   "metadata": {
    "scrolled": true
   },
   "outputs": [
    {
     "data": {
      "text/html": [
       "<video src=\"media/jupyter/ArrowScaleMethod@2022-07-19@00-16-50.mp4\" controls autoplay loop style=\"max-width: 60%;\"  >\n",
       "      Your browser does not support the <code>video</code> element.\n",
       "    </video>"
      ],
      "text/plain": [
       "<IPython.core.display.Video object>"
      ]
     },
     "metadata": {},
     "output_type": "display_data"
    }
   ],
   "source": [
    "%%manim -ql -v WARNING ArrowScaleMethod\n",
    "\n",
    "class ArrowScaleMethod(Scene):\n",
    "    def construct(self):\n",
    "        flecha = Arrow([-1,2,0],[3,0,0],stroke_width=15)\n",
    "        self.add(flecha)\n",
    "        self.wait()\n",
    "        flecha.scale(2.5)\n",
    "        self.wait()"
   ]
  },
  {
   "cell_type": "markdown",
   "id": "03297995",
   "metadata": {},
   "source": [
    "`Arrow` no tiene atributos \"particulares\"; sólo los que hereda de [`VMobject`](https://docs.manim.community/en/stable/reference/manim.mobject.types.vectorized_mobject.VMobject.html#manim.mobject.types.vectorized_mobject.VMobject)."
   ]
  },
  {
   "cell_type": "markdown",
   "id": "1e235368",
   "metadata": {},
   "source": [
    "#### Flechas con doble punta con la subclase [`Mobject -> VMobject -> SVGMobject -> Line -> Arrow -> DoubleArrow`](https://docs.manim.community/en/stable/reference/manim.mobject.geometry.line.DoubleArrow.html#manim.mobject.geometry.line.DoubleArrow)\n",
    "\n",
    "Para crear una flecha con puntas en ambos extremos, inicializamos un objeto de clase `DoubleArrow`; esta clase tiene los mismos parámetros, métodos y atributos que `Arrow`:"
   ]
  },
  {
   "cell_type": "code",
   "execution_count": 27,
   "id": "ed0a601d",
   "metadata": {},
   "outputs": [
    {
     "data": {
      "image/png": "[encoded data removed]",
      "text/plain": [
       "<IPython.core.display.Image object>"
      ]
     },
     "metadata": {},
     "output_type": "display_data"
    }
   ],
   "source": [
    "%%manim -ql -v WARNING ArrowParameters\n",
    "\n",
    "class ArrowParameters(Scene):\n",
    "    def construct(self):\n",
    "        flecha = DoubleArrow([-2.5,-2.5,0], # start\n",
    "                      [3,3,0],       # end\n",
    "                      buff=0,         \n",
    "                      path_arc = 0)\n",
    "        self.add(flecha)"
   ]
  },
  {
   "cell_type": "markdown",
   "id": "dd15e40e",
   "metadata": {},
   "source": [
    "#### Vectores flecha con la subclase [`Mobject -> VMobject -> SVGMobject -> Line -> Arrow -> Vector`](https://docs.manim.community/en/stable/reference/manim.mobject.geometry.line.Vector.html#manim.mobject.geometry.line.Vector)\n",
    "\n",
    "La clase `Vector` crea una flecha (`Arrow`) con el parámetro `start` en el origen. Por lo tanto, en vez de inicializar un vector con parámetros `start` y `end`, sólo necesitamos un parámetro, llamado `direction` (que hace la función de `end`); el resto de los parámetros de `Vector` son iguales a los de `Arrow`."
   ]
  },
  {
   "cell_type": "code",
   "execution_count": 1,
   "id": "4c5e79bf",
   "metadata": {},
   "outputs": [
    {
     "data": {
      "text/html": [
       "<pre style=\"white-space:pre;overflow-x:auto;line-height:normal;font-family:Menlo,'DejaVu Sans Mono',consolas,'Courier New',monospace\">Manim Community <span style=\"color: #008000; text-decoration-color: #008000\">v0.15.2</span>\n",
       "\n",
       "</pre>\n"
      ],
      "text/plain": [
       "Manim Community \u001b[32mv0.\u001b[0m\u001b[32m15.2\u001b[0m\n",
       "\n"
      ]
     },
     "metadata": {},
     "output_type": "display_data"
    }
   ],
   "source": [
    "from manim import *"
   ]
  },
  {
   "cell_type": "code",
   "execution_count": 21,
   "id": "0aea0fb6",
   "metadata": {},
   "outputs": [
    {
     "data": {
      "image/png": "[encoded data removed]",
      "text/plain": [
       "<IPython.core.display.Image object>"
      ]
     },
     "metadata": {},
     "output_type": "display_data"
    }
   ],
   "source": [
    "%%manim -ql -v WARNING VectorExample\n",
    "\n",
    "class VectorExample(Scene):\n",
    "    def construct(self):\n",
    "        self.add(NumberPlane())\n",
    "        \n",
    "        vector = Vector([1,2]) # Creamos un vector con punta en (1,2)\n",
    "        self.add(vector)       # y lo añadimos a la escena."
   ]
  },
  {
   "cell_type": "markdown",
   "id": "bcc8c239",
   "metadata": {},
   "source": [
    "El único **método** \"particular\" de `Vector` es [`coordinate_label`](https://docs.manim.community/en/stable/reference/manim.mobject.geometry.line.Vector.html#manim.mobject.geometry.line.Vector.coordinate_label), que crea un Mobject con las coordenadas del vector en cuestión escritas en forma de vector columna. Sus parámetros relevantes son\n",
    "\n",
    "* `integer_label`, que toma un valor Booleano `True` o `False`, el cual determina si las coordenadas se redondean a enteros o no;\n",
    "* `color`, el color del vector columna con las coordenadas del vector."
   ]
  },
  {
   "cell_type": "code",
   "execution_count": 13,
   "id": "02eb22b4",
   "metadata": {
    "scrolled": true
   },
   "outputs": [
    {
     "data": {
      "image/png": "[encoded data removed]",
      "text/plain": [
       "<IPython.core.display.Image object>"
      ]
     },
     "metadata": {},
     "output_type": "display_data"
    }
   ],
   "source": [
    "%%manim -ql -v WARNING VectorCoordinateLabelMethod\n",
    "\n",
    "class VectorCoordinateLabelMethod(Scene):\n",
    "    def construct(self):\n",
    "        plane = NumberPlane()\n",
    "\n",
    "        vec_1 = Vector([1,2])\n",
    "        vec_2 = Vector([-3.54,-2.91],color=GREEN)\n",
    "        label_1 = vec_1.coordinate_label()\n",
    "        label_2 = vec_2.coordinate_label(integer_labels=False,\n",
    "                                         color=GREEN)\n",
    "        self.add(plane, vec_1, label_1)\n",
    "        self.add(plane, vec_1, vec_2, label_1, label_2)"
   ]
  },
  {
   "cell_type": "markdown",
   "id": "299654f7",
   "metadata": {},
   "source": [
    "Los atributos de `Vector` son los mismos que hereda de [`VMobject`](https://docs.manim.community/en/stable/reference/manim.mobject.types.vectorized_mobject.VMobject.html#manim.mobject.types.vectorized_mobject.VMobject)."
   ]
  },
  {
   "cell_type": "markdown",
   "id": "e047ebaf",
   "metadata": {},
   "source": [
    "## Scenes\n",
    "\n",
    "## La clase [`Scene -> VectorScene`](https://docs.manim.community/en/stable/reference/manim.scene.vector_space_scene.VectorScene.html#manim.scene.vector_space_scene.VectorScene)\n",
    "\n",
    "Esta clase permite...\n",
    "\n",
    "### Atributos de `VectorScene`\n",
    "\n",
    "Al ser una subclase de `Scene`, la clase `VectorScene` hereda el atributo `camera`.\n",
    "\n",
    "### Métodos de `VectorScene`"
   ]
  },
  {
   "cell_type": "markdown",
   "id": "12283275",
   "metadata": {},
   "source": [
    "`add_axes`"
   ]
  },
  {
   "cell_type": "markdown",
   "id": "d010cc40",
   "metadata": {},
   "source": [
    "#### `add_plane`\n",
    "\n",
    "Para utilizar este método, debemos primero crear un Mobject tipo [`NumberPlane`](https://docs.manim.community/en/stable/reference/manim.mobject.graphing.coordinate_systems.NumberPlane.html?highlight=NumberPlane#numberplane). Luego, `self.add_plane()` añadirá el plano a la escena **sin animación**, mientras que `self.add_plane(True)` lo añadirá **con una animación**:"
   ]
  },
  {
   "cell_type": "code",
   "execution_count": 4,
   "id": "675eee6f",
   "metadata": {},
   "outputs": [
    {
     "data": {
      "text/html": [
       "<video src=\"media/jupyter/AddPlane@2022-07-18@13-36-46.mp4\" controls autoplay loop style=\"max-width: 60%;\"  >\n",
       "      Your browser does not support the <code>video</code> element.\n",
       "    </video>"
      ],
      "text/plain": [
       "<IPython.core.display.Video object>"
      ]
     },
     "metadata": {},
     "output_type": "display_data"
    }
   ],
   "source": [
    "%%manim -ql -v WARNING AddPlane\n",
    "\n",
    "class AddPlane(VectorScene): # Creamos una subclase de VectorScene\n",
    "    def construct(self):\n",
    "        \n",
    "        NumberPlane()         # Creamos nuestro plano\n",
    "        self.add_plane()      # Añadimos el plano sin animación\n",
    "        #self.add_plane(True)  # Animamos el plano\n",
    "        self.wait()"
   ]
  },
  {
   "cell_type": "markdown",
   "id": "bb65c9a6",
   "metadata": {},
   "source": [
    "Este método simplemente es un atajo a los siguientes métodos de la supclase `Scene`:"
   ]
  },
  {
   "cell_type": "code",
   "execution_count": 111,
   "id": "1384ce7b",
   "metadata": {
    "scrolled": true
   },
   "outputs": [
    {
     "data": {
      "text/html": [
       "<video src=\"media/jupyter/Plane@2022-07-18@11-50-42.mp4\" controls autoplay loop style=\"max-width: 60%;\"  >\n",
       "      Your browser does not support the <code>video</code> element.\n",
       "    </video>"
      ],
      "text/plain": [
       "<IPython.core.display.Video object>"
      ]
     },
     "metadata": {},
     "output_type": "display_data"
    }
   ],
   "source": [
    "%%manim -ql -v WARNING Plane\n",
    "\n",
    "class Plane(Scene):      # Creamos una subclase de Scene\n",
    "    def construct(self):\n",
    "        \n",
    "        # Comparar con self.add_plane() en la celda anterior:\n",
    "        self.add(NumberPlane())\n",
    "        \n",
    "        # Comparar con self.add_plane(True):\n",
    "        #self.play(Create(NumberPlane()))\n",
    "        \n",
    "        self.wait()"
   ]
  },
  {
   "cell_type": "markdown",
   "id": "607f24d2",
   "metadata": {},
   "source": [
    "`add_vector`"
   ]
  },
  {
   "cell_type": "code",
   "execution_count": 28,
   "id": "36a56d55",
   "metadata": {
    "scrolled": true
   },
   "outputs": [
    {
     "name": "stderr",
     "output_type": "stream",
     "text": [
      "                                                                     \r"
     ]
    },
    {
     "data": {
      "text/html": [
       "<video src=\"media/jupyter/AddVector@2022-07-19@00-18-09.mp4\" controls autoplay loop style=\"max-width: 60%;\"  >\n",
       "      Your browser does not support the <code>video</code> element.\n",
       "    </video>"
      ],
      "text/plain": [
       "<IPython.core.display.Video object>"
      ]
     },
     "metadata": {},
     "output_type": "display_data"
    }
   ],
   "source": [
    "%%manim -ql -v WARNING AddVector\n",
    "\n",
    "class AddVector(VectorScene):\n",
    "    def construct(self):\n",
    "        \n",
    "        self.add_vector([4,1], color=BLUE)\n",
    "        self.wait()"
   ]
  },
  {
   "cell_type": "markdown",
   "id": "eb70996b",
   "metadata": {},
   "source": [
    "### La subclase [`Scene -> VectorScene -> LinearTransformationScene`](https://docs.manim.community/en/stable/reference/manim.scene.vector_space_scene.LinearTransformationScene.html#manim.scene.vector_space_scene.LinearTransformationScene)"
   ]
  },
  {
   "cell_type": "markdown",
   "id": "1b3b1447",
   "metadata": {},
   "source": [
    "## Recursos adicionales\n",
    "* Video [Manim Tutorial | Vectors & Matrices | Tutorial 3, Manim Explained\n",
    "](https://www.youtube.com/watch?v=Yf9QnATooqA).\n",
    "* Video [Vectors, Linear Transformations, and Vector Fields | Mastering Manim Chapter 6](https://www.youtube.com/watch?v=qQv_FgW9nks).\n",
    "* [Manual de referencia](https://docs.manim.community/en/stable/reference.html) de Manim."
   ]
  }
 ],
 "metadata": {
  "kernelspec": {
   "display_name": "Python 3 (ipykernel)",
   "language": "python",
   "name": "python3"
  },
  "language_info": {
   "codemirror_mode": {
    "name": "ipython",
    "version": 3
   },
   "file_extension": ".py",
   "mimetype": "text/x-python",
   "name": "python",
   "nbconvert_exporter": "python",
   "pygments_lexer": "ipython3",
   "version": "3.10.5"
  }
 },
 "nbformat": 4,
 "nbformat_minor": 5
}
