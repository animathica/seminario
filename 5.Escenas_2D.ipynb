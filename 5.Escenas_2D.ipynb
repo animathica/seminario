{
 "cells": [
  {
   "cell_type": "markdown",
   "id": "6e66ba96",
   "metadata": {},
   "source": [
    "# Laboratorio de experimentos"
   ]
  },
  {
   "cell_type": "code",
   "execution_count": null,
   "id": "36a56d55",
   "metadata": {},
   "outputs": [],
   "source": []
  },
  {
   "cell_type": "code",
   "execution_count": null,
   "id": "6e6bc08b",
   "metadata": {},
   "outputs": [],
   "source": []
  },
  {
   "cell_type": "code",
   "execution_count": null,
   "id": "6d18262c",
   "metadata": {},
   "outputs": [],
   "source": []
  },
  {
   "cell_type": "code",
   "execution_count": null,
   "id": "694394ff",
   "metadata": {},
   "outputs": [],
   "source": []
  },
  {
   "cell_type": "code",
   "execution_count": null,
   "id": "3c1d19a1",
   "metadata": {},
   "outputs": [],
   "source": []
  },
  {
   "cell_type": "code",
   "execution_count": null,
   "id": "69374cb1",
   "metadata": {},
   "outputs": [],
   "source": [
    "from manim import *"
   ]
  },
  {
   "cell_type": "markdown",
   "id": "bee0c036",
   "metadata": {},
   "source": [
    "# Escenas 2D"
   ]
  },
  {
   "cell_type": "markdown",
   "id": "e047ebaf",
   "metadata": {},
   "source": [
    "## Introducción a la clase [`Scene -> VectorScene`](https://docs.manim.community/en/stable/reference/manim.scene.vector_space_scene.VectorScene.html#manim.scene.vector_space_scene.VectorScene)\n",
    "\n",
    "### Variables importantes de `VectorScene` (si las hay)\n",
    "\n",
    "### Atributos de `VectorScene`\n",
    "\n",
    "### Métodos de `VectorScene`"
   ]
  },
  {
   "cell_type": "markdown",
   "id": "c4e3c1b7",
   "metadata": {},
   "source": [
    "## Líneas con la clase [`Mobject -> VMobject -> SVGMobject -> Line`](https://docs.manim.community/en/stable/reference/manim.mobject.geometry.line.Line.html#manim.mobject.geometry.line.Line)"
   ]
  },
  {
   "cell_type": "markdown",
   "id": "7f265b62",
   "metadata": {},
   "source": [
    "### Líneas punteadas con la subclase [`Mobject -> VMobject -> SVGMobject -> Line -> DashedLine`](https://docs.manim.community/en/stable/reference/manim.mobject.geometry.line.DashedLine.html#manim.mobject.geometry.line.DashedLine)"
   ]
  },
  {
   "cell_type": "markdown",
   "id": "7f1cda91",
   "metadata": {},
   "source": [
    "### Flechas con la subclase [`Mobject -> VMobject -> SVGMobject -> Line -> Arrow`](https://docs.manim.community/en/stable/reference/manim.mobject.geometry.line.Arrow.html#manim.mobject.geometry.line.Arrow)"
   ]
  },
  {
   "cell_type": "markdown",
   "id": "1e235368",
   "metadata": {},
   "source": [
    "#### Flechas dobles con la subclase [`Mobject -> VMobject -> SVGMobject -> Line -> Arrow -> DoubleArrow`](https://docs.manim.community/en/stable/reference/manim.mobject.geometry.line.DoubleArrow.html#manim.mobject.geometry.line.DoubleArrow)"
   ]
  },
  {
   "cell_type": "markdown",
   "id": "dd15e40e",
   "metadata": {},
   "source": [
    "#### Vectores flecha con la subclase [`Mobject -> VMobject -> SVGMobject -> Line -> Arrow -> Vector`](https://docs.manim.community/en/stable/reference/manim.mobject.geometry.line.Vector.html#manim.mobject.geometry.line.Vector)"
   ]
  },
  {
   "cell_type": "markdown",
   "id": "eb70996b",
   "metadata": {},
   "source": [
    "## Subclase [`Scene -> VectorScene -> LinearTransformationScene`](https://docs.manim.community/en/stable/reference/manim.scene.vector_space_scene.LinearTransformationScene.html#manim.scene.vector_space_scene.LinearTransformationScene)"
   ]
  },
  {
   "cell_type": "markdown",
   "id": "1b3b1447",
   "metadata": {},
   "source": [
    "## Recursos adicionales\n",
    "* Video [Manim Tutorial | Vectors & Matrices | Tutorial 3, Manim Explained\n",
    "](https://www.youtube.com/watch?v=Yf9QnATooqA).\n",
    "* Video [Vectors, Linear Transformations, and Vector Fields | Mastering Manim Chapter 6](https://www.youtube.com/watch?v=qQv_FgW9nks).\n",
    "* [Manual de referencia](https://docs.manim.community/en/stable/reference.html) de Manim."
   ]
  }
 ],
 "metadata": {
  "kernelspec": {
   "display_name": "Python 3 (ipykernel)",
   "language": "python",
   "name": "python3"
  },
  "language_info": {
   "codemirror_mode": {
    "name": "ipython",
    "version": 3
   },
   "file_extension": ".py",
   "mimetype": "text/x-python",
   "name": "python",
   "nbconvert_exporter": "python",
   "pygments_lexer": "ipython3",
   "version": "3.10.4"
  }
 },
 "nbformat": 4,
 "nbformat_minor": 5
}
