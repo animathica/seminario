{
 "cells": [
  {
   "cell_type": "markdown",
   "id": "1f68c616",
   "metadata": {},
   "source": [
    "<font size = 4 color='blue'>\n",
    "\n",
    "# 1. Paradigma de OOP"
   ]
  },
  {
   "cell_type": "markdown",
   "id": "5c75e127",
   "metadata": {},
   "source": [
    "<font size = 4 color='black'>\n",
    "\n",
    "#### Paradigmas de programación\n",
    "\n",
    "Existen muchos lenguajes de programación. Sin embargo, para todos ellos se requiere seguir una estrategia cuando son implementados: a esta metodología/estrategia se le conoce como *paradigma*.\n",
    "    \n",
    "<div>\n",
    "<img src=\"paradigmas.png\" width=\"800\"/>\n",
    "</div>"
   ]
  },
  {
   "cell_type": "markdown",
   "id": "f2efcccd",
   "metadata": {},
   "source": [
    "<font size = 4 color='black'>\n",
    "   \n",
    "- **Paradigma imprativo:** el programador da instrucciones sobre cómo cambiar el estado de la máquina.\n",
    "    - *Procedural programming*: se agrupan instrucciones en procedimientos (C, C++, Java).\n",
    "    - *Object oriented programming*:  se agrupan instrucciones con la parte sobre la cual actúan dichas instrucciones (Python, Java, C++, Ruby).\n",
    "    - *Parallel processing approach*: la ejecución de instrucciones del programa se divide entre múltiples procesadores.\n",
    "- **Paradigma declarativo:** el programador declara propiedades del resultado deseado, pero no cómo calcularlo\n",
    "    - *Logic programming paradigm*: el resultado deseado es declarado como la respuesta a una pregunta sobre un sistema de reglas y proposiciones (Prolog).\n",
    "    - *Functional programming*: el resultado deseado es declarado como el resultado de una serie de aplicaciones de \n",
    "    funciones (Haskell, Scala).\n",
    "    - *Database processing approach*: basado en bases de datos y su manipulación (SQL)\n",
    "    \n",
    "Para una descripción más detallada de los paradigmas de programación, como las ventajas y desventajas de cada uno, véase [GeeksForGeeks](https://www.geeksforgeeks.org/introduction-of-programming-paradigms/)."
   ]
  },
  {
   "cell_type": "markdown",
   "id": "0e0de7d7",
   "metadata": {},
   "source": [
    "<font size = 4 color='blue'>\n",
    "\n",
    "### 1.1 Objetos y clases"
   ]
  },
  {
   "cell_type": "markdown",
   "id": "2934ea59",
   "metadata": {},
   "source": [
    "<font size = 4 color='black'>\n",
    "\n",
    "#### Necesidad de la Programación Orientada a Objetos\n",
    "\n",
    "Los *objetos*, o más precisamente, las *clases* (de las cuales provienen los objetos) surgen de la necesidad de escribir componentes reutilizables de software. Esta filosofía de reutilización evita que los desarrolladores de software tengan que \"reinventar la rueda\" cada que resuelven algún problema. "
   ]
  },
  {
   "cell_type": "markdown",
   "id": "1c8cdb8a",
   "metadata": {},
   "source": [
    "<font size = 4 color='black'>\n",
    "\n",
    "#### Un automóvil como una clase"
   ]
  },
  {
   "cell_type": "markdown",
   "id": "e36c8e14",
   "metadata": {},
   "source": [
    "<font size = 4 color='black'>\n",
    "\n",
    "Casi cualquier sustantivo puede ser representado como un objeto en términos de **atributos** (características, nombre, color, tamaño, etc) y **métodos** (procedimientos sobre esos objetos).\n",
    "\n",
    "Supongamos que se quiere simular/modelar un automóvil. Este puede tener color, masa, altura, ancho, eficiencia, etc (*atributos*). Además, con él se puede acelerar, frenar, virar, etc (*métodos*). En OOP una unidad del programa llamada *clase* almacena estos atributos y métodos. Se puede pensar a una clase como un diseño general, a partir del cual se construyen *instancias* con valores particulares para los atributos. \n",
    "    \n",
    "Un *objeto* es una *instancia* de su *clase.*"
   ]
  },
  {
   "cell_type": "markdown",
   "id": "74cc355d",
   "metadata": {},
   "source": [
    "<font size = 4 color='black'>\n",
    "\n",
    "#### Python"
   ]
  },
  {
   "cell_type": "markdown",
   "id": "3e78e827",
   "metadata": {},
   "source": [
    "<font size = 4 color='black'>\n",
    "\n",
    "Nuestro lenguaje de preferencia para la animación programática, Python, es un lenguaje de programación orientada a objetos. De hecho, se dice que \"todo en Python es un objeto\". Programar en Python consiste en crear y usar objetos de clases ya existentes. Comúnmente las clases más útiles para un propósito particular se empaquetan en *librerías*, y es la vasta extensión de librerías en Python uno de los aspectos que hacen que este lenguaje sea tan popularmente utilizado."
   ]
  },
  {
   "cell_type": "markdown",
   "id": "775a9bbc",
   "metadata": {},
   "source": [
    "<font size = 4 color='black'>\n",
    "    \n",
    "_________________________________________________________________________"
   ]
  },
  {
   "cell_type": "markdown",
   "id": "6e36cee6",
   "metadata": {},
   "source": [
    "<font size = 4 color='blue'>\n",
    "\n",
    "### 1.2 Sintaxis de Python para OOP"
   ]
  },
  {
   "cell_type": "markdown",
   "id": "eba7b64e",
   "metadata": {},
   "source": [
    "<font size = 4 color='black'>\n",
    "\n",
    "Para dejar más claros los conceptos discutidos en la sección anterior, vamos a utilizar Python para ejemplificar a la vez que desarrollamos la sintaxis empleada en este lenguaje de programación (véase *insertar referencia* para repasar conceptos básicos de la sintaxis de Python). \n",
    "    \n",
    "*Cada nueva clase que se define es un nuevo data type que puede ser utilizado para crear objetos*"
   ]
  },
  {
   "cell_type": "markdown",
   "id": "581db454",
   "metadata": {},
   "source": [
    "<font size = 4 color='black'>\n",
    "\n",
    "### Ejemplo de estudio: cuenta de banco"
   ]
  },
  {
   "cell_type": "markdown",
   "id": "286496e0",
   "metadata": {},
   "source": [
    "<font size = 4 color='black'>\n",
    "\n",
    "Comencemos con la clase *Account*, una cuenta de banco que almacena el nombre del titular de la cuenta y el saldo. Con clase Account se pueden simular las siguientes acciones: realización de depósitos y retiros."
   ]
  },
  {
   "cell_type": "markdown",
   "id": "f7264649",
   "metadata": {},
   "source": [
    "<font size = 4 color='black'>\n",
    "\n",
    "#### Código, clase Account"
   ]
  },
  {
   "cell_type": "code",
   "execution_count": 1,
   "id": "e2beb682",
   "metadata": {},
   "outputs": [],
   "source": [
    "\"\"\"Account class definition.\"\"\"\n",
    "from decimal import Decimal #Librería para representar dinero de forma fidedigna\n",
    "\n",
    "class Account:\n",
    "    \"\"\"Account class for maintaining a bank account balance.\"\"\"\n",
    "    \n",
    "    def __init__(self, name, balance):\n",
    "        \"\"\"Initialize an Account object.\"\"\"\n",
    "\n",
    "        # if balance is less than 0.00, raise an exception\n",
    "        if balance < Decimal('0.00'):\n",
    "            raise ValueError('Initial balance must be >= to 0.00.')\n",
    "\n",
    "        self.name = name\n",
    "        self.balance = balance\n",
    "\n",
    "    def deposit(self, amount):\n",
    "        \"\"\"Deposit money to the account.\"\"\"\n",
    "\n",
    "        # if amount is less than 0.00, raise an exception\n",
    "        if amount < Decimal('0.00'):\n",
    "            raise ValueError('amount must be positive.')\n",
    "\n",
    "        self.balance += amount\n",
    "        \n",
    "    def withdraw(self, amount):\n",
    "        \"\"\"Withdraw money from the account.\"\"\"\n",
    "\n",
    "        # if amount is less than 0.00, raise an exception\n",
    "        if amount > self.balance:\n",
    "            raise ValueError('amount must be <= to balance.')\n",
    "        elif amount < Decimal('0.00'):\n",
    "            raise ValueError('amount must be positive.')\n",
    "        self.balance -= amount"
   ]
  },
  {
   "cell_type": "markdown",
   "id": "ce9ba676",
   "metadata": {},
   "source": [
    "<font size = 4 color='black'>\n",
    "    \n",
    "### Anatomía de la clase Account\n",
    "\n",
    "La definición de una clase comienza con la keyword `class` seguida por el nombre de la clase y `:`. A esto se le conoce como el encabezado de la clase (revisar la [Style Guide for Python Code](https://peps.python.org/pep-0008/#class-names) para seguir las recomendaciones sobre cómo nombrar clases). \n",
    " \n",
    "Posteriormente hay declaraciones indentadas (como es usual en la sintaxis de Python). "
   ]
  },
  {
   "cell_type": "markdown",
   "id": "4f37ce66",
   "metadata": {},
   "source": [
    "<font size = 4 color='black'>\n",
    "\n",
    "**docstring**\n",
    "    \n",
    "`\"\"\"Account class for maintaining a bank account balance.\"\"\"` \n",
    "    \n",
    "Cada clase contiene, típicamente, un *docstring* descriptivo: es decir, un comentario que especifica el propósito de \n",
    "la clase que se va a definir. Cuando hay docstring para una clase, esta debe estar inmediatamente debajo del encabezado\n",
    "de la clase."
   ]
  },
  {
   "cell_type": "code",
   "execution_count": 2,
   "id": "e618f666",
   "metadata": {},
   "outputs": [],
   "source": [
    "#Para imprimir el averiguar el Docstring de una clase se utiliza el siguiente comando\n",
    "Account?\n",
    "#Al ejecutarlo, devuelve más información sobre nuestra clase."
   ]
  },
  {
   "cell_type": "markdown",
   "id": "9d1ba748",
   "metadata": {},
   "source": [
    "<font size = 4 color='black'>\n",
    "    \n",
    "El identificador `Account` es, al mismo tiempo, el nombre de la clase y el nombre usado en una expresión constructora. Esto es, se utiliza `Account` para crear instancias de esta clase e invocar el método `__init__`."
   ]
  },
  {
   "cell_type": "markdown",
   "id": "21273269",
   "metadata": {},
   "source": [
    "<font size = 4 color='black'>\n",
    "\n",
    "**Inicializando un objeto del tipo Account: el método `__init__`**"
   ]
  },
  {
   "cell_type": "markdown",
   "id": "a510b2b4",
   "metadata": {},
   "source": [
    "<font size = 4 color='black'>\n",
    "\n",
    "Vamos a crear un objeto o una instancia de la clase Account:"
   ]
  },
  {
   "cell_type": "code",
   "execution_count": 3,
   "id": "4436aff2",
   "metadata": {},
   "outputs": [],
   "source": [
    "# De acuerdo al Init signature que se obtuvo al ejecutar Account?\n",
    "# para crear una instancia de Account se requieren dos argumentos (name, balance).\n",
    "# El nombre es un string, mientras que el balance es un cierto tipo de dato llamado Decimal\n",
    "account_1 = Account('Grant Sanderson', Decimal('5000.00'))"
   ]
  },
  {
   "cell_type": "markdown",
   "id": "26afb794",
   "metadata": {},
   "source": [
    "<font size = 4 color='black'>\n",
    "\n",
    "##### ¿Qué pasa cuando se ejecuta la línea anterior?\n",
    "Al ejecutar la línea `4` de la celda anterior se crea un nuevo objeto, `account_1`, el cual se inicializa a través del \n",
    "llamado de la función `__init__`. Para diseñar una clase, es importante proveer a Python con un método `__init__` que \n",
    "especifique cómo inicializar los atributos de una instancia de esa clase. Este método siempre debe retornar `None`, es decir, no se espera que el método `__init__` devuelva algo distinto a `None` (se obtiene un `TypeError` si no se sigue esta regla)."
   ]
  },
  {
   "cell_type": "markdown",
   "id": "8c5c6171",
   "metadata": {},
   "source": [
    "<font size = 4 color='black'>\n",
    "    \n",
    "El método `__init__` inicializa un objeto de la clase Account con atributos `name` y `balance` si el `balance` es \n",
    "válido."
   ]
  },
  {
   "cell_type": "markdown",
   "id": "d488a5fe",
   "metadata": {},
   "source": [
    "<font size = 4 color='black'>\n",
    "\n",
    "##### Métodos de una clase\n",
    "\n",
    "Podemos pensarlos como funciones que pertenecen escpecíficamente a nuestra clase.\n",
    "\n",
    "Cuando se hace la llamada de un método, Python implícitamente pasa una referencia a ese objeto como el primer argumento \n",
    "de ese método."
   ]
  },
  {
   "cell_type": "markdown",
   "id": "3a9526db",
   "metadata": {},
   "source": [
    "<font size = 4 color='blue'>\n",
    "\n",
    "Por esta razón, todos los métodos de una clase DEBEN recibir al menos un parámetro. "
   ]
  },
  {
   "cell_type": "markdown",
   "id": "deb9b478",
   "metadata": {},
   "source": [
    "<font size = 4 color='black'>\n",
    "\n",
    "Por convención, los ususarios de Python llaman a este primer parámetro `self`. Y los métodos de una clase deben utilizar esta referencia para acceder a los atributos del objeto así como a otros métodos."
   ]
  },
  {
   "cell_type": "markdown",
   "id": "085e5499",
   "metadata": {},
   "source": [
    "<font size = 4 color='black'>\n",
    "    \n",
    "Para el caso de nuestra clase `Account`, se tienen tres métodos:\n",
    "    \n",
    "- `__init__(self, name, balance)`: inicializa el objeto, es necesario siempre que se quiere construir una nueva clase.\n",
    "-`deposit(self, amount)`: para simular un depósito en la cuenta por la cantidad amount.\n",
    "-`withdraw(self, amount)`: para simular un retiro de la cuenta.\n",
    "\n",
    "Observe que en la definición de estos métodos hay condiciones que, si no se cumplen, se ejecuta algo que en Python se\n",
    "conoce como un `raise ValueError('mensaje de error')` que interrumpe la ejecución. "
   ]
  },
  {
   "cell_type": "markdown",
   "id": "7cda7a04",
   "metadata": {},
   "source": [
    "<font size = 4 color='black'>\n",
    "    \n",
    "Las clases en Python pueden tener lo que se conoce como *special methods* o métodos especiales, como `__init__`, los cuales\n",
    "justamente tienen esta sintaxis:\n",
    "    \n",
    "`__specialMethod__(self, arguments)`\n",
    "    \n",
    "Más aún, existe una clase en Python llamada **object** la cual define los métodos especiales disponibles para todas las clases que se pueden crear en Python.\n"
   ]
  },
  {
   "cell_type": "markdown",
   "id": "ad1dabb4",
   "metadata": {},
   "source": [
    "<font size = 4 color='black'>\n",
    "    \n",
    "##### Nuestro objeto `account_1` en acción"
   ]
  },
  {
   "cell_type": "markdown",
   "id": "98a89741",
   "metadata": {},
   "source": [
    "<font size = 4 color='black'>\n",
    "    \n",
    "*Acceso a atributos.* Para acceder a los atributos de un objeto creado, se utiliza la sintaxis\n",
    "`nombredelobjeto.atributo`"
   ]
  },
  {
   "cell_type": "code",
   "execution_count": 4,
   "id": "db43783d",
   "metadata": {},
   "outputs": [
    {
     "data": {
      "text/plain": [
       "'Grant Sanderson'"
      ]
     },
     "execution_count": 4,
     "metadata": {},
     "output_type": "execute_result"
    }
   ],
   "source": [
    "# Nombre del propietario de la cuenta\n",
    "account_1.name"
   ]
  },
  {
   "cell_type": "code",
   "execution_count": 5,
   "id": "53dbd204",
   "metadata": {},
   "outputs": [
    {
     "data": {
      "text/plain": [
       "Decimal('5000.00')"
      ]
     },
     "execution_count": 5,
     "metadata": {},
     "output_type": "execute_result"
    }
   ],
   "source": [
    "# Saldo inicial\n",
    "account_1.balance"
   ]
  },
  {
   "cell_type": "markdown",
   "id": "9d60cd53",
   "metadata": {},
   "source": [
    "<font size = 4 color='black'>\n",
    "    \n",
    "*Uso de métodos*. Simulación de depósitos y retiros:"
   ]
  },
  {
   "cell_type": "code",
   "execution_count": 6,
   "id": "b03f76f2",
   "metadata": {},
   "outputs": [],
   "source": [
    "# Simulación de un depósito\n",
    "account_1.deposit(Decimal('3000'))"
   ]
  },
  {
   "cell_type": "code",
   "execution_count": 7,
   "id": "54043be2",
   "metadata": {},
   "outputs": [
    {
     "data": {
      "text/plain": [
       "Decimal('8000.00')"
      ]
     },
     "execution_count": 7,
     "metadata": {},
     "output_type": "execute_result"
    }
   ],
   "source": [
    "# Verificamos el saldo después del depósito\n",
    "account_1.balance"
   ]
  },
  {
   "cell_type": "code",
   "execution_count": 8,
   "id": "313be438",
   "metadata": {},
   "outputs": [],
   "source": [
    "# Simulación de un depósito\n",
    "account_1.withdraw(Decimal('3000'))"
   ]
  },
  {
   "cell_type": "code",
   "execution_count": 9,
   "id": "06223c8c",
   "metadata": {},
   "outputs": [
    {
     "data": {
      "text/plain": [
       "Decimal('5000.00')"
      ]
     },
     "execution_count": 9,
     "metadata": {},
     "output_type": "execute_result"
    }
   ],
   "source": [
    "# Verificamos el saldo después del retiro\n",
    "account_1.balance"
   ]
  },
  {
   "cell_type": "code",
   "execution_count": 10,
   "id": "7735b059",
   "metadata": {},
   "outputs": [
    {
     "ename": "ValueError",
     "evalue": "amount must be positive.",
     "output_type": "error",
     "traceback": [
      "\u001b[1;31m---------------------------------------------------------------------------\u001b[0m",
      "\u001b[1;31mValueError\u001b[0m                                Traceback (most recent call last)",
      "Input \u001b[1;32mIn [10]\u001b[0m, in \u001b[0;36m<cell line: 2>\u001b[1;34m()\u001b[0m\n\u001b[0;32m      1\u001b[0m \u001b[38;5;66;03m# Un depósito fallido\u001b[39;00m\n\u001b[1;32m----> 2\u001b[0m \u001b[43maccount_1\u001b[49m\u001b[38;5;241;43m.\u001b[39;49m\u001b[43mdeposit\u001b[49m\u001b[43m(\u001b[49m\u001b[43mDecimal\u001b[49m\u001b[43m(\u001b[49m\u001b[38;5;124;43m'\u001b[39;49m\u001b[38;5;124;43m-3000\u001b[39;49m\u001b[38;5;124;43m'\u001b[39;49m\u001b[43m)\u001b[49m\u001b[43m)\u001b[49m\n",
      "Input \u001b[1;32mIn [1]\u001b[0m, in \u001b[0;36mAccount.deposit\u001b[1;34m(self, amount)\u001b[0m\n\u001b[0;32m     20\u001b[0m \u001b[38;5;66;03m# if amount is less than 0.00, raise an exception\u001b[39;00m\n\u001b[0;32m     21\u001b[0m \u001b[38;5;28;01mif\u001b[39;00m amount \u001b[38;5;241m<\u001b[39m Decimal(\u001b[38;5;124m'\u001b[39m\u001b[38;5;124m0.00\u001b[39m\u001b[38;5;124m'\u001b[39m):\n\u001b[1;32m---> 22\u001b[0m     \u001b[38;5;28;01mraise\u001b[39;00m \u001b[38;5;167;01mValueError\u001b[39;00m(\u001b[38;5;124m'\u001b[39m\u001b[38;5;124mamount must be positive.\u001b[39m\u001b[38;5;124m'\u001b[39m)\n\u001b[0;32m     24\u001b[0m \u001b[38;5;28mself\u001b[39m\u001b[38;5;241m.\u001b[39mbalance \u001b[38;5;241m+\u001b[39m\u001b[38;5;241m=\u001b[39m amount\n",
      "\u001b[1;31mValueError\u001b[0m: amount must be positive."
     ]
    }
   ],
   "source": [
    "# Un depósito fallido\n",
    "account_1.deposit(Decimal('-3000'))"
   ]
  },
  {
   "cell_type": "code",
   "execution_count": 11,
   "id": "ce9f692a",
   "metadata": {},
   "outputs": [
    {
     "ename": "ValueError",
     "evalue": "amount must be <= to balance.",
     "output_type": "error",
     "traceback": [
      "\u001b[1;31m---------------------------------------------------------------------------\u001b[0m",
      "\u001b[1;31mValueError\u001b[0m                                Traceback (most recent call last)",
      "Input \u001b[1;32mIn [11]\u001b[0m, in \u001b[0;36m<cell line: 2>\u001b[1;34m()\u001b[0m\n\u001b[0;32m      1\u001b[0m \u001b[38;5;66;03m# Un retiro fallido\u001b[39;00m\n\u001b[1;32m----> 2\u001b[0m \u001b[43maccount_1\u001b[49m\u001b[38;5;241;43m.\u001b[39;49m\u001b[43mwithdraw\u001b[49m\u001b[43m(\u001b[49m\u001b[43mDecimal\u001b[49m\u001b[43m(\u001b[49m\u001b[38;5;124;43m'\u001b[39;49m\u001b[38;5;124;43m50000\u001b[39;49m\u001b[38;5;124;43m'\u001b[39;49m\u001b[43m)\u001b[49m\u001b[43m)\u001b[49m\n",
      "Input \u001b[1;32mIn [1]\u001b[0m, in \u001b[0;36mAccount.withdraw\u001b[1;34m(self, amount)\u001b[0m\n\u001b[0;32m     29\u001b[0m \u001b[38;5;66;03m# if amount is less than 0.00, raise an exception\u001b[39;00m\n\u001b[0;32m     30\u001b[0m \u001b[38;5;28;01mif\u001b[39;00m amount \u001b[38;5;241m>\u001b[39m \u001b[38;5;28mself\u001b[39m\u001b[38;5;241m.\u001b[39mbalance:\n\u001b[1;32m---> 31\u001b[0m     \u001b[38;5;28;01mraise\u001b[39;00m \u001b[38;5;167;01mValueError\u001b[39;00m(\u001b[38;5;124m'\u001b[39m\u001b[38;5;124mamount must be <= to balance.\u001b[39m\u001b[38;5;124m'\u001b[39m)\n\u001b[0;32m     32\u001b[0m \u001b[38;5;28;01melif\u001b[39;00m amount \u001b[38;5;241m<\u001b[39m Decimal(\u001b[38;5;124m'\u001b[39m\u001b[38;5;124m0.00\u001b[39m\u001b[38;5;124m'\u001b[39m):\n\u001b[0;32m     33\u001b[0m     \u001b[38;5;28;01mraise\u001b[39;00m \u001b[38;5;167;01mValueError\u001b[39;00m(\u001b[38;5;124m'\u001b[39m\u001b[38;5;124mamount must be positive.\u001b[39m\u001b[38;5;124m'\u001b[39m)\n",
      "\u001b[1;31mValueError\u001b[0m: amount must be <= to balance."
     ]
    }
   ],
   "source": [
    "# Un retiro fallido\n",
    "account_1.withdraw(Decimal('50000'))"
   ]
  },
  {
   "cell_type": "code",
   "execution_count": 12,
   "id": "29c25eda",
   "metadata": {},
   "outputs": [],
   "source": [
    "# Información sobre métodos específicos\n",
    "Account.deposit?"
   ]
  },
  {
   "cell_type": "code",
   "execution_count": 13,
   "id": "8c3778b3",
   "metadata": {},
   "outputs": [],
   "source": [
    "Account.withdraw?"
   ]
  },
  {
   "cell_type": "markdown",
   "id": "435218f1",
   "metadata": {},
   "source": [
    "<font size = 4 color='black'>\n",
    "    \n",
    "#### Control del acceso a los atributos de una clase"
   ]
  },
  {
   "cell_type": "markdown",
   "id": "47c73f55",
   "metadata": {},
   "source": [
    "<font size = 4 color='black'>\n",
    "    \n",
    "Resulta que también se pueden utilizar los atributos para modificar los valores de los mismos."
   ]
  },
  {
   "cell_type": "code",
   "execution_count": 14,
   "id": "0ebdfa5d",
   "metadata": {},
   "outputs": [],
   "source": [
    "account_1.name = 'Raúl'"
   ]
  },
  {
   "cell_type": "code",
   "execution_count": 15,
   "id": "f07ebd55",
   "metadata": {},
   "outputs": [],
   "source": [
    "account_1.balance = Decimal('40000.00')"
   ]
  },
  {
   "cell_type": "code",
   "execution_count": 16,
   "id": "9a9ff162",
   "metadata": {},
   "outputs": [
    {
     "data": {
      "text/plain": [
       "'Raúl'"
      ]
     },
     "execution_count": 16,
     "metadata": {},
     "output_type": "execute_result"
    }
   ],
   "source": [
    "account_1.name"
   ]
  },
  {
   "cell_type": "code",
   "execution_count": 17,
   "id": "d3f1d09a",
   "metadata": {},
   "outputs": [
    {
     "data": {
      "text/plain": [
       "Decimal('40000.00')"
      ]
     },
     "execution_count": 17,
     "metadata": {},
     "output_type": "execute_result"
    }
   ],
   "source": [
    "account_1.balance"
   ]
  },
  {
   "cell_type": "markdown",
   "id": "eee16985",
   "metadata": {},
   "source": [
    "<font size = 4 color='black'>\n",
    "    \n",
    "Esto puede ser un problema, ya que una vez creado el objeto se pueden hacer cosas que no tengan mucho sentido:"
   ]
  },
  {
   "cell_type": "code",
   "execution_count": 18,
   "id": "49dd7b24",
   "metadata": {},
   "outputs": [],
   "source": [
    "account_1.balance = Decimal('-10.00')"
   ]
  },
  {
   "cell_type": "code",
   "execution_count": 19,
   "id": "ba0b17ce",
   "metadata": {},
   "outputs": [
    {
     "data": {
      "text/plain": [
       "Decimal('-10.00')"
      ]
     },
     "execution_count": 19,
     "metadata": {},
     "output_type": "execute_result"
    }
   ],
   "source": [
    "account_1.balance"
   ]
  },
  {
   "cell_type": "markdown",
   "id": "99acfdcf",
   "metadata": {},
   "source": [
    "<font size = 4 color='black'>\n",
    "    \n",
    "Lo cual es un defecto que se intentaba prevenir al momento de crear la cuenta. A diferencia de los métodos, al modificar atributos no se puede validar los valores que se les asignen."
   ]
  },
  {
   "cell_type": "markdown",
   "id": "ddeed598",
   "metadata": {},
   "source": [
    "<font size = 4 color='black'>\n",
    "    \n",
    "#### Encapsulación\n",
    "    \n",
    "La mayoría de los lenguajes de programación permiten encapsular (esconder) datos de una clase para evitar situaciones como la anterior. A este tipo de datos se le llama *private data* (datos privados).\n",
    "    \n",
    "Todo el código que se programa posterior a la construcción de una clase, y que usa dicha clase, se le conoce como *client code* o código cliente. Por lo que, en la encapsulación, el objetivo es restringir el acceso en el código cliente a los atributos privados\n",
    "    \n",
    "En Python todos los atributos de una clase son públicos, pero existe una convención para acordar entre todos los usuarios de las clases que un atributo es privado. Los atributos con el siguiente formato:\n",
    "\n",
    "`_atributo`\n",
    "\n",
    "se consideran atributos privados."
   ]
  },
  {
   "cell_type": "markdown",
   "id": "0b1e112e",
   "metadata": {},
   "source": [
    "#### Necesidad de los argumentos si la clase se definió así"
   ]
  },
  {
   "cell_type": "code",
   "execution_count": 20,
   "id": "c4844129",
   "metadata": {
    "scrolled": false
   },
   "outputs": [
    {
     "ename": "TypeError",
     "evalue": "__init__() missing 2 required positional arguments: 'name' and 'balance'",
     "output_type": "error",
     "traceback": [
      "\u001b[1;31m---------------------------------------------------------------------------\u001b[0m",
      "\u001b[1;31mTypeError\u001b[0m                                 Traceback (most recent call last)",
      "Input \u001b[1;32mIn [20]\u001b[0m, in \u001b[0;36m<cell line: 1>\u001b[1;34m()\u001b[0m\n\u001b[1;32m----> 1\u001b[0m cuenta_fallida \u001b[38;5;241m=\u001b[39m \u001b[43mAccount\u001b[49m\u001b[43m(\u001b[49m\u001b[43m)\u001b[49m\n",
      "\u001b[1;31mTypeError\u001b[0m: __init__() missing 2 required positional arguments: 'name' and 'balance'"
     ]
    }
   ],
   "source": [
    "cuenta_fallida = Account()"
   ]
  },
  {
   "cell_type": "markdown",
   "id": "166015cb",
   "metadata": {},
   "source": [
    "#### Una clase con valores por defecto"
   ]
  },
  {
   "cell_type": "code",
   "execution_count": 22,
   "id": "100ecdcb",
   "metadata": {},
   "outputs": [],
   "source": [
    "#Recuerde que self, o en este caso cualquiercosa, solo es una referencia al mismo objeto\n",
    "class Ventana:\n",
    "    def __init__(cualquiercosa, ancho=3, altura=3):\n",
    "        cualquiercosa.ancho = ancho\n",
    "        cualquiercosa.altura = altura\n",
    "    def obtener_area(cualquiercosa):\n",
    "        return cualquiercosa.ancho*cualquiercosa.altura"
   ]
  },
  {
   "cell_type": "code",
   "execution_count": 23,
   "id": "98dc46cb",
   "metadata": {},
   "outputs": [],
   "source": [
    "mi_ventana = Ventana()"
   ]
  },
  {
   "cell_type": "code",
   "execution_count": 24,
   "id": "58901858",
   "metadata": {},
   "outputs": [
    {
     "data": {
      "text/plain": [
       "3"
      ]
     },
     "execution_count": 24,
     "metadata": {},
     "output_type": "execute_result"
    }
   ],
   "source": [
    "mi_ventana.ancho"
   ]
  },
  {
   "cell_type": "code",
   "execution_count": 25,
   "id": "8d4be2fa",
   "metadata": {},
   "outputs": [
    {
     "data": {
      "text/plain": [
       "3"
      ]
     },
     "execution_count": 25,
     "metadata": {},
     "output_type": "execute_result"
    }
   ],
   "source": [
    "mi_ventana.altura"
   ]
  },
  {
   "cell_type": "code",
   "execution_count": 26,
   "id": "1785c36c",
   "metadata": {},
   "outputs": [
    {
     "data": {
      "text/plain": [
       "9"
      ]
     },
     "execution_count": 26,
     "metadata": {},
     "output_type": "execute_result"
    }
   ],
   "source": [
    "mi_ventana.obtener_area()"
   ]
  },
  {
   "cell_type": "code",
   "execution_count": 27,
   "id": "e1ab3ec8",
   "metadata": {},
   "outputs": [],
   "source": [
    "mi_ventana.ancho = 1\n",
    "mi_ventana.altura = 1"
   ]
  },
  {
   "cell_type": "code",
   "execution_count": 28,
   "id": "496beee6",
   "metadata": {},
   "outputs": [
    {
     "data": {
      "text/plain": [
       "1"
      ]
     },
     "execution_count": 28,
     "metadata": {},
     "output_type": "execute_result"
    }
   ],
   "source": [
    "mi_ventana.obtener_area()"
   ]
  },
  {
   "cell_type": "code",
   "execution_count": 29,
   "id": "9e404855",
   "metadata": {},
   "outputs": [],
   "source": [
    "otra_ventana = Ventana(5,7)"
   ]
  },
  {
   "cell_type": "code",
   "execution_count": 30,
   "id": "b6726be5",
   "metadata": {},
   "outputs": [
    {
     "data": {
      "text/plain": [
       "5"
      ]
     },
     "execution_count": 30,
     "metadata": {},
     "output_type": "execute_result"
    }
   ],
   "source": [
    "otra_ventana.ancho"
   ]
  },
  {
   "cell_type": "code",
   "execution_count": 31,
   "id": "cbb51b25",
   "metadata": {},
   "outputs": [
    {
     "data": {
      "text/plain": [
       "7"
      ]
     },
     "execution_count": 31,
     "metadata": {},
     "output_type": "execute_result"
    }
   ],
   "source": [
    "otra_ventana.altura"
   ]
  },
  {
   "cell_type": "code",
   "execution_count": 32,
   "id": "5f7f76e1",
   "metadata": {},
   "outputs": [
    {
     "data": {
      "text/plain": [
       "35"
      ]
     },
     "execution_count": 32,
     "metadata": {},
     "output_type": "execute_result"
    }
   ],
   "source": [
    "otra_ventana.obtener_area()"
   ]
  },
  {
   "cell_type": "markdown",
   "id": "f8272217",
   "metadata": {},
   "source": [
    "<font size = 4 color='black'>\n",
    "    \n",
    "#### Impresión los atributos y métodos de una clase"
   ]
  },
  {
   "cell_type": "code",
   "execution_count": 40,
   "id": "213c3510",
   "metadata": {},
   "outputs": [
    {
     "data": {
      "text/plain": [
       "{'name': 'Raúl', 'balance': Decimal('-10.00')}"
      ]
     },
     "execution_count": 40,
     "metadata": {},
     "output_type": "execute_result"
    }
   ],
   "source": [
    "attrs = vars(account_1)\n",
    "attrs"
   ]
  },
  {
   "cell_type": "code",
   "execution_count": 41,
   "id": "fd6da313",
   "metadata": {},
   "outputs": [
    {
     "data": {
      "text/plain": [
       "['__class__',\n",
       " '__delattr__',\n",
       " '__dict__',\n",
       " '__dir__',\n",
       " '__doc__',\n",
       " '__eq__',\n",
       " '__format__',\n",
       " '__ge__',\n",
       " '__getattribute__',\n",
       " '__gt__',\n",
       " '__hash__',\n",
       " '__init__',\n",
       " '__init_subclass__',\n",
       " '__le__',\n",
       " '__lt__',\n",
       " '__module__',\n",
       " '__ne__',\n",
       " '__new__',\n",
       " '__reduce__',\n",
       " '__reduce_ex__',\n",
       " '__repr__',\n",
       " '__setattr__',\n",
       " '__sizeof__',\n",
       " '__str__',\n",
       " '__subclasshook__',\n",
       " '__weakref__',\n",
       " 'balance',\n",
       " 'deposit',\n",
       " 'name',\n",
       " 'withdraw']"
      ]
     },
     "execution_count": 41,
     "metadata": {},
     "output_type": "execute_result"
    }
   ],
   "source": [
    "dir(account_1)"
   ]
  },
  {
   "cell_type": "code",
   "execution_count": 42,
   "id": "80afa2d3",
   "metadata": {},
   "outputs": [],
   "source": [
    "from manim import *"
   ]
  },
  {
   "cell_type": "code",
   "execution_count": 43,
   "id": "3eb32091",
   "metadata": {},
   "outputs": [],
   "source": [
    "Scene?"
   ]
  },
  {
   "cell_type": "code",
   "execution_count": 44,
   "id": "4005f74b",
   "metadata": {},
   "outputs": [
    {
     "data": {
      "text/plain": [
       "mappingproxy({'__module__': 'manim.scene.scene',\n",
       "              '__doc__': 'A Scene is the canvas of your animation.\\n\\n    The primary role of :class:`Scene` is to provide the user with tools to manage\\n    mobjects and animations.  Generally speaking, a manim script consists of a class\\n    that derives from :class:`Scene` whose :meth:`Scene.construct` method is overridden\\n    by the user\\'s code.\\n\\n    Mobjects are displayed on screen by calling :meth:`Scene.add` and removed from\\n    screen by calling :meth:`Scene.remove`.  All mobjects currently on screen are kept\\n    in :attr:`Scene.mobjects`.  Animations are played by calling :meth:`Scene.play`.\\n\\n    A :class:`Scene` is rendered internally by calling :meth:`Scene.render`.  This in\\n    turn calls :meth:`Scene.setup`, :meth:`Scene.construct`, and\\n    :meth:`Scene.tear_down`, in that order.\\n\\n    It is not recommended to override the ``__init__`` method in user Scenes.  For code\\n    that should be ran before a Scene is rendered, use :meth:`Scene.setup` instead.\\n\\n    Examples\\n    --------\\n    Override the :meth:`Scene.construct` method with your code.\\n\\n    .. code-block:: python\\n\\n        class MyScene(Scene):\\n            def construct(self):\\n                self.play(Write(Text(\"Hello World!\")))\\n\\n    ',\n",
       "              '__init__': <function manim.scene.scene.Scene.__init__(self, renderer=None, camera_class=<class 'manim.camera.camera.Camera'>, always_update_mobjects=False, random_seed=None, skip_animations=False)>,\n",
       "              'camera': <property at 0x1f7520cdc70>,\n",
       "              '__deepcopy__': <function manim.scene.scene.Scene.__deepcopy__(self, clone_from_id)>,\n",
       "              'render': <function manim.scene.scene.Scene.render(self, preview=False)>,\n",
       "              'setup': <function manim.scene.scene.Scene.setup(self)>,\n",
       "              'tear_down': <function manim.scene.scene.Scene.tear_down(self)>,\n",
       "              'construct': <function manim.scene.scene.Scene.construct(self)>,\n",
       "              'next_section': <function manim.scene.scene.Scene.next_section(self, name: 'str' = 'unnamed', type: 'str' = <DefaultSectionType.NORMAL: 'default.normal'>, skip_animations: 'bool' = False) -> 'None'>,\n",
       "              '__str__': <function manim.scene.scene.Scene.__str__(self)>,\n",
       "              'get_attrs': <function manim.scene.scene.Scene.get_attrs(self, *keys)>,\n",
       "              'update_mobjects': <function manim.scene.scene.Scene.update_mobjects(self, dt)>,\n",
       "              'update_meshes': <function manim.scene.scene.Scene.update_meshes(self, dt)>,\n",
       "              'update_self': <function manim.scene.scene.Scene.update_self(self, dt: 'float')>,\n",
       "              'should_update_mobjects': <function manim.scene.scene.Scene.should_update_mobjects(self) -> 'bool'>,\n",
       "              'get_top_level_mobjects': <function manim.scene.scene.Scene.get_top_level_mobjects(self)>,\n",
       "              'get_mobject_family_members': <function manim.scene.scene.Scene.get_mobject_family_members(self)>,\n",
       "              'add': <function manim.scene.scene.Scene.add(self, *mobjects)>,\n",
       "              'add_mobjects_from_animations': <function manim.scene.scene.Scene.add_mobjects_from_animations(self, animations)>,\n",
       "              'remove': <function manim.scene.scene.Scene.remove(self, *mobjects)>,\n",
       "              'add_updater': <function manim.scene.scene.Scene.add_updater(self, func: 'Callable[[float], None]') -> 'None'>,\n",
       "              'remove_updater': <function manim.scene.scene.Scene.remove_updater(self, func: 'Callable[[float], None]') -> 'None'>,\n",
       "              'restructure_mobjects': <function manim.scene.scene.Scene.restructure_mobjects(self, to_remove, mobject_list_name='mobjects', extract_families=True)>,\n",
       "              'get_restructured_mobject_list': <function manim.scene.scene.Scene.get_restructured_mobject_list(self, mobjects, to_remove)>,\n",
       "              'add_foreground_mobjects': <function manim.scene.scene.Scene.add_foreground_mobjects(self, *mobjects)>,\n",
       "              'add_foreground_mobject': <function manim.scene.scene.Scene.add_foreground_mobject(self, mobject)>,\n",
       "              'remove_foreground_mobjects': <function manim.scene.scene.Scene.remove_foreground_mobjects(self, *to_remove)>,\n",
       "              'remove_foreground_mobject': <function manim.scene.scene.Scene.remove_foreground_mobject(self, mobject)>,\n",
       "              'bring_to_front': <function manim.scene.scene.Scene.bring_to_front(self, *mobjects)>,\n",
       "              'bring_to_back': <function manim.scene.scene.Scene.bring_to_back(self, *mobjects)>,\n",
       "              'clear': <function manim.scene.scene.Scene.clear(self)>,\n",
       "              'get_moving_mobjects': <function manim.scene.scene.Scene.get_moving_mobjects(self, *animations)>,\n",
       "              'get_moving_and_static_mobjects': <function manim.scene.scene.Scene.get_moving_and_static_mobjects(self, animations)>,\n",
       "              'compile_animations': <function manim.scene.scene.Scene.compile_animations(self, *args, **kwargs)>,\n",
       "              '_get_animation_time_progression': <function manim.scene.scene.Scene._get_animation_time_progression(self, animations, duration)>,\n",
       "              'get_time_progression': <function manim.scene.scene.Scene.get_time_progression(self, run_time, description, n_iterations=None, override_skip_animations=False)>,\n",
       "              'get_run_time': <function manim.scene.scene.Scene.get_run_time(self, animations)>,\n",
       "              'play': <function manim.scene.scene.Scene.play(self, *args, subcaption=None, subcaption_duration=None, subcaption_offset=0, **kwargs)>,\n",
       "              'wait': <function manim.scene.scene.Scene.wait(self, duration: 'float' = 1.0, stop_condition: 'Callable[[], bool] | None' = None, frozen_frame: 'bool | None' = None)>,\n",
       "              'pause': <function manim.scene.scene.Scene.pause(self, duration: 'float' = 1.0)>,\n",
       "              'wait_until': <function manim.scene.scene.Scene.wait_until(self, stop_condition, max_time=60)>,\n",
       "              'compile_animation_data': <function manim.scene.scene.Scene.compile_animation_data(self, *animations: 'Animation', **play_kwargs)>,\n",
       "              'begin_animations': <function manim.scene.scene.Scene.begin_animations(self) -> 'None'>,\n",
       "              'is_current_animation_frozen_frame': <function manim.scene.scene.Scene.is_current_animation_frozen_frame(self) -> 'bool'>,\n",
       "              'play_internal': <function manim.scene.scene.Scene.play_internal(self, skip_rendering=False)>,\n",
       "              'check_interactive_embed_is_valid': <function manim.scene.scene.Scene.check_interactive_embed_is_valid(self)>,\n",
       "              'interactive_embed': <function manim.scene.scene.Scene.interactive_embed(self)>,\n",
       "              'interact': <function manim.scene.scene.Scene.interact(self, shell, keyboard_thread)>,\n",
       "              'embed': <function manim.scene.scene.Scene.embed(self)>,\n",
       "              'update_to_time': <function manim.scene.scene.Scene.update_to_time(self, t)>,\n",
       "              'add_subcaption': <function manim.scene.scene.Scene.add_subcaption(self, content: 'str', duration: 'float' = 1, offset: 'float' = 0) -> 'None'>,\n",
       "              'add_sound': <function manim.scene.scene.Scene.add_sound(self, sound_file, time_offset=0, gain=None, **kwargs)>,\n",
       "              'on_mouse_motion': <function manim.scene.scene.Scene.on_mouse_motion(self, point, d_point)>,\n",
       "              'on_mouse_scroll': <function manim.scene.scene.Scene.on_mouse_scroll(self, point, offset)>,\n",
       "              'on_key_press': <function manim.scene.scene.Scene.on_key_press(self, symbol, modifiers)>,\n",
       "              'on_key_release': <function manim.scene.scene.Scene.on_key_release(self, symbol, modifiers)>,\n",
       "              'on_mouse_drag': <function manim.scene.scene.Scene.on_mouse_drag(self, point, d_point, buttons, modifiers)>,\n",
       "              'mouse_scroll_orbit_controls': <function manim.scene.scene.Scene.mouse_scroll_orbit_controls(self, point, offset)>,\n",
       "              'mouse_drag_orbit_controls': <function manim.scene.scene.Scene.mouse_drag_orbit_controls(self, point, d_point, buttons, modifiers)>,\n",
       "              'set_key_function': <function manim.scene.scene.Scene.set_key_function(self, char, func)>,\n",
       "              'on_mouse_press': <function manim.scene.scene.Scene.on_mouse_press(self, point, button, modifiers)>,\n",
       "              '__dict__': <attribute '__dict__' of 'Scene' objects>,\n",
       "              '__weakref__': <attribute '__weakref__' of 'Scene' objects>})"
      ]
     },
     "execution_count": 44,
     "metadata": {},
     "output_type": "execute_result"
    }
   ],
   "source": [
    "vars(Scene)"
   ]
  },
  {
   "cell_type": "code",
   "execution_count": 45,
   "id": "040d40be",
   "metadata": {},
   "outputs": [
    {
     "data": {
      "image/png": "[encoded data removed]",
      "text/plain": [
       "<Figure size 720x576 with 1 Axes>"
      ]
     },
     "metadata": {
      "needs_background": "light"
     },
     "output_type": "display_data"
    }
   ],
   "source": [
    "import matplotlib.pyplot as plt\n",
    "\n",
    "fig, ax = plt.subplots(figsize=(10,8));"
   ]
  },
  {
   "cell_type": "code",
   "execution_count": 46,
   "id": "1aec8c98",
   "metadata": {},
   "outputs": [
    {
     "data": {
      "text/plain": [
       "{'_stale': True,\n",
       " 'stale_callback': <function matplotlib.figure._stale_figure_callback(self, val)>,\n",
       " '_axes': <AxesSubplot:>,\n",
       " 'figure': <Figure size 720x576 with 1 Axes>,\n",
       " '_transform': None,\n",
       " '_transformSet': False,\n",
       " '_visible': True,\n",
       " '_animated': False,\n",
       " '_alpha': None,\n",
       " 'clipbox': None,\n",
       " '_clippath': None,\n",
       " '_clipon': True,\n",
       " '_label': '',\n",
       " '_picker': None,\n",
       " '_contains': None,\n",
       " '_rasterized': False,\n",
       " '_agg_filter': None,\n",
       " '_mouseover': False,\n",
       " '_callbacks': <matplotlib.cbook.CallbackRegistry at 0x1f75519fa30>,\n",
       " '_remove_method': <bound method FigureBase.delaxes of <Figure size 720x576 with 1 Axes>>,\n",
       " '_url': None,\n",
       " '_gid': None,\n",
       " '_snap': None,\n",
       " '_sketch': None,\n",
       " '_path_effects': [],\n",
       " '_sticky_edges': _XYPair(x=[], y=[]),\n",
       " '_in_layout': True,\n",
       " '_position': Bbox([[0.125, 0.125], [0.9, 0.88]]),\n",
       " '_originalPosition': Bbox([[0.125, 0.125], [0.9, 0.88]]),\n",
       " '_aspect': 'auto',\n",
       " '_adjustable': 'box',\n",
       " '_anchor': 'C',\n",
       " '_stale_viewlim_x': False,\n",
       " '_stale_viewlim_y': False,\n",
       " '_sharex': None,\n",
       " '_sharey': None,\n",
       " 'bbox': <matplotlib.transforms.TransformedBbox at 0x1f75519f940>,\n",
       " 'dataLim': Bbox([[inf, inf], [-inf, -inf]]),\n",
       " '_viewLim': Bbox([[0.0, 0.0], [1.0, 1.0]]),\n",
       " 'transScale': <matplotlib.transforms.TransformWrapper at 0x1f75519fcd0>,\n",
       " 'transAxes': <matplotlib.transforms.BboxTransformTo at 0x1f75519f850>,\n",
       " 'transLimits': <matplotlib.transforms.BboxTransformFrom at 0x1f75519fd90>,\n",
       " 'transData': <matplotlib.transforms.CompositeGenericTransform at 0x1f75519fc40>,\n",
       " '_xaxis_transform': <matplotlib.transforms.BlendedGenericTransform at 0x1f75519fc70>,\n",
       " '_yaxis_transform': <matplotlib.transforms.BlendedGenericTransform at 0x1f75519fca0>,\n",
       " '_box_aspect': None,\n",
       " '_axes_locator': None,\n",
       " '_colorbars': [],\n",
       " 'spines': <matplotlib.spines.Spines at 0x1f75519fe50>,\n",
       " 'xaxis': <matplotlib.axis.XAxis at 0x1f75519fe80>,\n",
       " 'yaxis': <matplotlib.axis.YAxis at 0x1f7551b87c0>,\n",
       " '_facecolor': 'white',\n",
       " '_frameon': True,\n",
       " '_axisbelow': 'line',\n",
       " '_rasterization_zorder': None,\n",
       " 'ignore_existing_data_limits': True,\n",
       " 'callbacks': <matplotlib.cbook.CallbackRegistry at 0x1f7551b8d30>,\n",
       " '_autoscaleXon': True,\n",
       " '_autoscaleYon': True,\n",
       " '_xmargin': 0.05,\n",
       " '_ymargin': 0.05,\n",
       " '_tight': None,\n",
       " '_use_sticky_edges': True,\n",
       " '_get_lines': <matplotlib.axes._base._process_plot_var_args at 0x1f7551b8fa0>,\n",
       " '_get_patches_for_fill': <matplotlib.axes._base._process_plot_var_args at 0x1f7551b8d60>,\n",
       " '_gridOn': False,\n",
       " 'lines': [],\n",
       " 'patches': [],\n",
       " 'texts': [],\n",
       " 'tables': [],\n",
       " 'artists': [],\n",
       " 'images': [],\n",
       " '_mouseover_set': <matplotlib.cbook._OrderedSet at 0x1f7551be130>,\n",
       " 'child_axes': [],\n",
       " '_current_image': None,\n",
       " '_projection_init': (matplotlib.axes._axes.Axes,\n",
       "  {'sharex': None, 'sharey': None}),\n",
       " 'legend_': None,\n",
       " 'collections': [],\n",
       " 'containers': [],\n",
       " '_autotitlepos': True,\n",
       " 'title': Text(0.5, 1.0, ''),\n",
       " '_left_title': Text(0.0, 1.0, ''),\n",
       " '_right_title': Text(1.0, 1.0, ''),\n",
       " 'titleOffsetTrans': <matplotlib.transforms.ScaledTranslation at 0x1f7551cf130>,\n",
       " 'patch': <matplotlib.patches.Rectangle at 0x1f7551c8b20>,\n",
       " 'axison': True,\n",
       " 'fmt_xdata': None,\n",
       " 'fmt_ydata': None,\n",
       " '_navigate': True,\n",
       " '_navigate_mode': None,\n",
       " '_subplotspec': GridSpec(1, 1)[0:1, 0:1]}"
      ]
     },
     "execution_count": 46,
     "metadata": {},
     "output_type": "execute_result"
    }
   ],
   "source": [
    "vars(ax)"
   ]
  },
  {
   "cell_type": "markdown",
   "id": "51f7d7d3",
   "metadata": {},
   "source": []
  }
 ],
 "metadata": {
  "kernelspec": {
   "display_name": "Python 3 (ipykernel)",
   "language": "python",
   "name": "python3"
  },
  "language_info": {
   "codemirror_mode": {
    "name": "ipython",
    "version": 3
   },
   "file_extension": ".py",
   "mimetype": "text/x-python",
   "name": "python",
   "nbconvert_exporter": "python",
   "pygments_lexer": "ipython3",
   "version": "3.8.11"
  }
 },
 "nbformat": 4,
 "nbformat_minor": 5
}
