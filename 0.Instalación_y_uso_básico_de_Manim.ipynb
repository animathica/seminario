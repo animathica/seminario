{
 "cells": [
  {
   "cell_type": "markdown",
   "id": "7d243192",
   "metadata": {},
   "source": [
    "# Instalación y uso básico de Manim\n",
    "\n",
    "## Instalación\n",
    "\n",
    "Para asegurarnos de que todos los _notebooks_ de este repositorio puedan ejecutarse correctamente, estandarizaremos la versión de [Manim](https://github.com/ManimCommunity/manim) que utilizaremos para elaborarlos.\n",
    "\n",
    "Dado que, al momento de iniciar el seminario (03/05/22), la versión más reciente de `manim` es la `0.15.2`, instalaremos esa versión ejecutando la siguiente celda de código (seleccionándola con un clic o con las teclas de flechas y tecleando `CTRL+ENTER`):"
   ]
  },
  {
   "cell_type": "code",
   "execution_count": null,
   "id": "66a8029c",
   "metadata": {},
   "outputs": [],
   "source": [
    "!pip install --upgrade manim==0.15.2 # Instalar versión 0.15.2 de manim"
   ]
  },
  {
   "cell_type": "markdown",
   "id": "b7d09529",
   "metadata": {},
   "source": [
    "También es recomendable actualizar el _kernel_ de Jupyter para Python ejecutando la siguiente celda"
   ]
  },
  {
   "cell_type": "code",
   "execution_count": null,
   "id": "77889411",
   "metadata": {},
   "outputs": [],
   "source": [
    "!pip install IPython --upgrade # Actualizar el 'kernel' de Python"
   ]
  },
  {
   "cell_type": "markdown",
   "id": "96b0302b",
   "metadata": {},
   "source": [
    "y, después, reiniciar el _kernel_ haciendo clic en la pestaña `Kernel` y eligiendo la opción `Restart`."
   ]
  },
  {
   "cell_type": "markdown",
   "id": "72aff46f",
   "metadata": {},
   "source": [
    "## Uso básico de Manim\n",
    "\n",
    "Después de haber instalado `manim`, para poder usar este paquete en un _notebook_, siempre debemos empezar por cargar sus contenidos con la siguiente línea de código:"
   ]
  },
  {
   "cell_type": "code",
   "execution_count": 14,
   "id": "ddb39f18",
   "metadata": {},
   "outputs": [
    {
     "data": {
      "text/html": [
       "<pre style=\"white-space:pre;overflow-x:auto;line-height:normal;font-family:Menlo,'DejaVu Sans Mono',consolas,'Courier New',monospace\">Manim Community <span style=\"color: #008000; text-decoration-color: #008000\">v0.15.1</span>\n",
       "\n",
       "</pre>\n"
      ],
      "text/plain": [
       "Manim Community \u001b[32mv0.\u001b[0m\u001b[32m15.1\u001b[0m\n",
       "\n"
      ]
     },
     "metadata": {},
     "output_type": "display_data"
    }
   ],
   "source": [
    "from manim import * # Carga todos los contenidos del paquete 'manim'."
   ]
  },
  {
   "cell_type": "markdown",
   "id": "57b8b394",
   "metadata": {},
   "source": [
    "Ahora, podemos crear escenas de Manim ejecutando código como el del siguiente ejemplo:"
   ]
  },
  {
   "cell_type": "code",
   "execution_count": 21,
   "id": "98572c84",
   "metadata": {},
   "outputs": [
    {
     "name": "stderr",
     "output_type": "stream",
     "text": [
      "                                                                            \r"
     ]
    },
    {
     "data": {
      "text/html": [
       "<video src=\"media/jupyter/MovingAround@2022-04-25@21-42-27.mp4\" controls autoplay loop style=\"max-width: 60%;\"  >\n",
       "      Your browser does not support the <code>video</code> element.\n",
       "    </video>"
      ],
      "text/plain": [
       "<IPython.core.display.Video object>"
      ]
     },
     "metadata": {},
     "output_type": "display_data"
    }
   ],
   "source": [
    "%%manim -qm -v WARNING MovingAround\n",
    "\n",
    "class MovingAround(Scene):                         # Creamos una escena\n",
    "    def construct(self):\n",
    "        \n",
    "        square = Square(color=BLUE, fill_opacity=1) # Creamos un cuadrado, lo\n",
    "        self.play(square.animate.shift(LEFT))      # movemos a la izquierda,\n",
    "        self.play(square.animate.set_fill(ORANGE))  # cambiamos su relleno,\n",
    "        self.play(square.animate.scale(0.3))       # lo reescalamos y\n",
    "        self.play(square.animate.rotate(0.4))      # lo rotamos."
   ]
  },
  {
   "cell_type": "markdown",
   "id": "863484d4",
   "metadata": {},
   "source": [
    "Con esto, debe aparecer un recuadro negro con un cuadrado azul en medio. Dando clic dentro de este recuadro, podemos reproducir la animación de la escena. También podemos darle doble clic al recuadro para verla en pantalla completa.\n",
    "\n",
    "En el ejemplo anterior, la escena que creamos se llama `MovingAround`, y fue creada con la línea de código\n",
    "\n",
    "`class MovingAround(Scene):`.\n",
    "\n",
    "Todo el código que está por debajo de la línea anterior describe qué sucederá en la escena. La línea de código que convierte todo este bloque de código en una animación es\n",
    "\n",
    "`%%manim -qm -v WARNING MovingAround`,\n",
    "\n",
    "donde\n",
    "* el comando ``%%manim`` nos permite ejecutar `manim` desde un _notebook_ de Jupyter (desde una terminal virtual no es necesario porner los símbolos `%%` al inicio de la línea);\n",
    "* la opción (o _flag_) `-qm` es una abreviación de _quality meduim_, lo que genera una animación de calidad media (si tarda mucho en generarse, podemos cambiarla por `-ql`, _low quality_, que se genera más rápidamente);\n",
    "* la opción `-v WARNING` hace que `manim` sólo imprima mensajes de texto si son advertencias de que el código puede tener errores, en vez de imprimir el progreso del proceso de _rendering_;\n",
    "* después de haber llamado el comando `manim` y haber especificado todas las opciones que queremos para nuestra animación, debemos poner el nombre de la escena que queremos animar -en este caso, es `MovingAround`.\n",
    "\n",
    "Conoceremos otras opciones más adelante."
   ]
  },
  {
   "cell_type": "markdown",
   "id": "bda1cd50",
   "metadata": {},
   "source": [
    "**Ejercicio** Cambia la opción `-qm` de la celda de código anterior por `-ql`, vuelve a ejecutar la celda y observa cómo cambia la animación. \n",
    "\n",
    "**Ejercicio** Quita la opción `-v WARNING` de la celda de código anterior, vuélvela a ejecutar y observa cómo cambia la salida.\n",
    "\n",
    "**Ejercicio** Intenta ejecutar otras escenas de la [galería de ejemplos](https://docs.manim.community/en/latest/examples.html) de Manim desde este _notebook_ usando las opciones `-qm -v WARNING`."
   ]
  },
  {
   "cell_type": "code",
   "execution_count": null,
   "id": "edb90710",
   "metadata": {},
   "outputs": [],
   "source": [
    "# Tu código va aquí :)"
   ]
  },
  {
   "cell_type": "code",
   "execution_count": 22,
   "id": "de4dd0c5",
   "metadata": {},
   "outputs": [],
   "source": [
    "# Puedes crear más celdas con el botón `+` debajo de la pestaña `File`."
   ]
  },
  {
   "cell_type": "markdown",
   "id": "d7b89dec",
   "metadata": {},
   "source": [
    "## Recursos adicionales\n",
    "* [Tutoriales](https://docs.manim.community/en/stable/tutorials.html) de Manim.\n",
    "* [Galería de ejemplos](https://docs.manim.community/en/stable/examples.html)  de Manim.\n",
    "* [Manual de referencia](https://docs.manim.community/en/stable/reference.html) de Manim."
   ]
  }
 ],
 "metadata": {
  "kernelspec": {
   "display_name": "Python 3 (ipykernel)",
   "language": "python",
   "name": "python3"
  },
  "language_info": {
   "codemirror_mode": {
    "name": "ipython",
    "version": 3
   },
   "file_extension": ".py",
   "mimetype": "text/x-python",
   "name": "python",
   "nbconvert_exporter": "python",
   "pygments_lexer": "ipython3",
   "version": "3.10.4"
  }
 },
 "nbformat": 4,
 "nbformat_minor": 5
}
